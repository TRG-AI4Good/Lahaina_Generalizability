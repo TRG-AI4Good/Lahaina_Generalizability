{
 "cells": [
  {
   "cell_type": "code",
   "execution_count": 1,
   "metadata": {},
   "outputs": [
    {
     "name": "stdout",
     "output_type": "stream",
     "text": [
      "CUDA is available.\n",
      "Number of GPUs available: 1\n",
      "Current CUDA device name: NVIDIA GeForce RTX 3070 Laptop GPU\n"
     ]
    }
   ],
   "source": [
    "import torch\n",
    "\n",
    "# Check if CUDA is available\n",
    "if torch.cuda.is_available():\n",
    "    print(\"CUDA is available.\")\n",
    "    # Get the number of available GPUs\n",
    "    num_gpus = torch.cuda.device_count()\n",
    "    print(f\"Number of GPUs available: {num_gpus}\")\n",
    "    # Get the name of the current CUDA device\n",
    "    current_device = torch.cuda.current_device()\n",
    "    print(f\"Current CUDA device name: {torch.cuda.get_device_name(current_device)}\")\n",
    "else:\n",
    "    print(\"CUDA is not available. Using CPU.\")\n"
   ]
  },
  {
   "cell_type": "code",
   "execution_count": 2,
   "metadata": {},
   "outputs": [
    {
     "name": "stdout",
     "output_type": "stream",
     "text": [
      "Collecting git+https://github.com/qubvel/segmentation_models.pytorch\n",
      "  Cloning https://github.com/qubvel/segmentation_models.pytorch to c:\\users\\solei\\appdata\\local\\temp\\pip-req-build-_7t4q785\n",
      "  Resolved https://github.com/qubvel/segmentation_models.pytorch to commit 6db76a1106426ac5b55f39fba68168f3bccae7f8\n",
      "  Installing build dependencies: started\n",
      "  Installing build dependencies: finished with status 'done'\n",
      "  Getting requirements to build wheel: started\n",
      "  Getting requirements to build wheel: finished with status 'done'\n",
      "  Preparing metadata (pyproject.toml): started\n",
      "  Preparing metadata (pyproject.toml): finished with status 'done'\n",
      "Requirement already satisfied: torchvision>=0.5.0 in c:\\users\\solei\\anaconda3\\envs\\rapid_test_1\\lib\\site-packages (from segmentation_models_pytorch==0.3.3) (0.16.2)\n",
      "Requirement already satisfied: pretrainedmodels==0.7.4 in c:\\users\\solei\\anaconda3\\envs\\rapid_test_1\\lib\\site-packages (from segmentation_models_pytorch==0.3.3) (0.7.4)\n",
      "Requirement already satisfied: efficientnet-pytorch==0.7.1 in c:\\users\\solei\\anaconda3\\envs\\rapid_test_1\\lib\\site-packages (from segmentation_models_pytorch==0.3.3) (0.7.1)\n",
      "Requirement already satisfied: timm==0.9.7 in c:\\users\\solei\\anaconda3\\envs\\rapid_test_1\\lib\\site-packages (from segmentation_models_pytorch==0.3.3) (0.9.7)\n",
      "Requirement already satisfied: tqdm in c:\\users\\solei\\anaconda3\\envs\\rapid_test_1\\lib\\site-packages (from segmentation_models_pytorch==0.3.3) (4.66.2)\n",
      "Requirement already satisfied: pillow in c:\\users\\solei\\anaconda3\\envs\\rapid_test_1\\lib\\site-packages (from segmentation_models_pytorch==0.3.3) (10.2.0)\n",
      "Requirement already satisfied: six in c:\\users\\solei\\anaconda3\\envs\\rapid_test_1\\lib\\site-packages (from segmentation_models_pytorch==0.3.3) (1.16.0)\n",
      "Requirement already satisfied: torch in c:\\users\\solei\\anaconda3\\envs\\rapid_test_1\\lib\\site-packages (from efficientnet-pytorch==0.7.1->segmentation_models_pytorch==0.3.3) (2.1.2+cu118)\n",
      "Requirement already satisfied: munch in c:\\users\\solei\\anaconda3\\envs\\rapid_test_1\\lib\\site-packages (from pretrainedmodels==0.7.4->segmentation_models_pytorch==0.3.3) (4.0.0)\n",
      "Requirement already satisfied: pyyaml in c:\\users\\solei\\anaconda3\\envs\\rapid_test_1\\lib\\site-packages (from timm==0.9.7->segmentation_models_pytorch==0.3.3) (6.0.1)\n",
      "Requirement already satisfied: huggingface-hub in c:\\users\\solei\\anaconda3\\envs\\rapid_test_1\\lib\\site-packages (from timm==0.9.7->segmentation_models_pytorch==0.3.3) (0.21.4)\n",
      "Requirement already satisfied: safetensors in c:\\users\\solei\\anaconda3\\envs\\rapid_test_1\\lib\\site-packages (from timm==0.9.7->segmentation_models_pytorch==0.3.3) (0.4.2)\n",
      "Requirement already satisfied: numpy in c:\\users\\solei\\anaconda3\\envs\\rapid_test_1\\lib\\site-packages (from torchvision>=0.5.0->segmentation_models_pytorch==0.3.3) (1.24.4)\n",
      "Requirement already satisfied: requests in c:\\users\\solei\\anaconda3\\envs\\rapid_test_1\\lib\\site-packages (from torchvision>=0.5.0->segmentation_models_pytorch==0.3.3) (2.31.0)\n",
      "Requirement already satisfied: filelock in c:\\users\\solei\\anaconda3\\envs\\rapid_test_1\\lib\\site-packages (from torch->efficientnet-pytorch==0.7.1->segmentation_models_pytorch==0.3.3) (3.13.1)\n",
      "Requirement already satisfied: typing-extensions in c:\\users\\solei\\anaconda3\\envs\\rapid_test_1\\lib\\site-packages (from torch->efficientnet-pytorch==0.7.1->segmentation_models_pytorch==0.3.3) (4.10.0)\n",
      "Requirement already satisfied: sympy in c:\\users\\solei\\anaconda3\\envs\\rapid_test_1\\lib\\site-packages (from torch->efficientnet-pytorch==0.7.1->segmentation_models_pytorch==0.3.3) (1.12)\n",
      "Requirement already satisfied: networkx in c:\\users\\solei\\anaconda3\\envs\\rapid_test_1\\lib\\site-packages (from torch->efficientnet-pytorch==0.7.1->segmentation_models_pytorch==0.3.3) (3.1)\n",
      "Requirement already satisfied: jinja2 in c:\\users\\solei\\anaconda3\\envs\\rapid_test_1\\lib\\site-packages (from torch->efficientnet-pytorch==0.7.1->segmentation_models_pytorch==0.3.3) (3.1.3)\n",
      "Requirement already satisfied: fsspec in c:\\users\\solei\\anaconda3\\envs\\rapid_test_1\\lib\\site-packages (from torch->efficientnet-pytorch==0.7.1->segmentation_models_pytorch==0.3.3) (2024.3.1)\n",
      "Requirement already satisfied: colorama in c:\\users\\solei\\anaconda3\\envs\\rapid_test_1\\lib\\site-packages (from tqdm->segmentation_models_pytorch==0.3.3) (0.4.6)\n",
      "Requirement already satisfied: packaging>=20.9 in c:\\users\\solei\\anaconda3\\envs\\rapid_test_1\\lib\\site-packages (from huggingface-hub->timm==0.9.7->segmentation_models_pytorch==0.3.3) (23.2)\n",
      "Requirement already satisfied: charset-normalizer<4,>=2 in c:\\users\\solei\\anaconda3\\envs\\rapid_test_1\\lib\\site-packages (from requests->torchvision>=0.5.0->segmentation_models_pytorch==0.3.3) (2.0.4)\n",
      "Requirement already satisfied: idna<4,>=2.5 in c:\\users\\solei\\anaconda3\\envs\\rapid_test_1\\lib\\site-packages (from requests->torchvision>=0.5.0->segmentation_models_pytorch==0.3.3) (3.4)\n",
      "Requirement already satisfied: urllib3<3,>=1.21.1 in c:\\users\\solei\\anaconda3\\envs\\rapid_test_1\\lib\\site-packages (from requests->torchvision>=0.5.0->segmentation_models_pytorch==0.3.3) (1.26.18)\n",
      "Requirement already satisfied: certifi>=2017.4.17 in c:\\users\\solei\\anaconda3\\envs\\rapid_test_1\\lib\\site-packages (from requests->torchvision>=0.5.0->segmentation_models_pytorch==0.3.3) (2024.2.2)\n",
      "Requirement already satisfied: MarkupSafe>=2.0 in c:\\users\\solei\\anaconda3\\envs\\rapid_test_1\\lib\\site-packages (from jinja2->torch->efficientnet-pytorch==0.7.1->segmentation_models_pytorch==0.3.3) (2.1.3)\n",
      "Requirement already satisfied: mpmath>=0.19 in c:\\users\\solei\\anaconda3\\envs\\rapid_test_1\\lib\\site-packages (from sympy->torch->efficientnet-pytorch==0.7.1->segmentation_models_pytorch==0.3.3) (1.3.0)\n"
     ]
    },
    {
     "name": "stderr",
     "output_type": "stream",
     "text": [
      "  Running command git clone --filter=blob:none --quiet https://github.com/qubvel/segmentation_models.pytorch 'C:\\Users\\solei\\AppData\\Local\\Temp\\pip-req-build-_7t4q785'\n"
     ]
    }
   ],
   "source": [
    "import os\n",
    "cwd=os.getcwd()\n",
    "from Main import RAPID_A\n",
    "A=RAPID_A(cwd,640,640)"
   ]
  },
  {
   "cell_type": "code",
   "execution_count": 3,
   "metadata": {},
   "outputs": [],
   "source": [
    "# Extract ARIA maps\n",
    "#A.ARIA_maps()"
   ]
  },
  {
   "cell_type": "code",
   "execution_count": 4,
   "metadata": {},
   "outputs": [],
   "source": [
    "#Extract CD maps\n",
    "#A.CD_maps()"
   ]
  },
  {
   "cell_type": "code",
   "execution_count": 13,
   "metadata": {},
   "outputs": [],
   "source": [
    "# Run ineference for models\n",
    "# we have 6 models in total for D and C masks of the six ensemble models\n",
    "Models=['Model_2E_Eff','Model_2E_Eff_CD','Model_2E_Eff_ARIA','Model_2E_Tra','Model_2E_Tra_CD','Model_2E_Tra_ARIA']\n",
    "## Building masks\n",
    "#A.Model_Mask(['C','D'],Models)"
   ]
  },
  {
   "cell_type": "code",
   "execution_count": 6,
   "metadata": {},
   "outputs": [],
   "source": [
    "## Building masks\n",
    "#A.Mask_To_Poly(['Model_2E_Eff_CD'],['C','D'])"
   ]
  },
  {
   "cell_type": "code",
   "execution_count": 14,
   "metadata": {},
   "outputs": [
    {
     "name": "stdout",
     "output_type": "stream",
     "text": [
      "| Type   | Collapsed   | Possibly   |\n",
      "|--------+-------------+------------|\n",
      "| >10    | 454(16.4%)  | 127(4.60%) |\n",
      "| >20    | 401(14.5%)  | 105(3.80%) |\n",
      "| >30    | 368(13.3%)  | 90(3.26%)  |\n",
      "| >40    | 339(12.2%)  | 80(2.90%)  |\n",
      "| >50    | 307(11.1%)  | 72(2.61%)  |\n",
      "| >60    | 276(10.0%)  | 66(2.39%)  |\n",
      "| >70    | 232(8.41%)  | 53(1.92%)  |\n",
      "| >80    | 196(7.10%)  | 47(1.70%)  |\n",
      "| >90    | 154(5.58%)  | 34(1.23%)  |\n",
      "\n",
      " Accuracy estimation:\n",
      "Model_2E_Eff's binary damage detection P-R-F1 scores=\n",
      " No damage: 2328 \tDamage: 429\n",
      " Prec:\t 0.6785109220676231 \n",
      " Recall:\t 0.6104199750769863 \n",
      " F1:\t 0.44777046811177657 \n",
      "\n",
      "Model_2E_Eff's damage severity detection P-R-F1 scores=\n",
      " D damage: 73 \tC Damage: 356\n",
      " Prec:\t 0.5269539769963439 \n",
      " Recall:\t 0.42467570257328296 \n",
      " F1:\t 0.3269531038482417 \n",
      "\n",
      "| Type   | Collapsed   | Possibly   |\n",
      "|--------+-------------+------------|\n",
      "| >10    | 730(26.4%)  | 264(9.57%) |\n",
      "| >20    | 695(25.2%)  | 229(8.30%) |\n",
      "| >30    | 661(23.9%)  | 204(7.39%) |\n",
      "| >40    | 623(22.5%)  | 189(6.85%) |\n",
      "| >50    | 588(21.3%)  | 162(5.87%) |\n",
      "| >60    | 551(19.9%)  | 148(5.36%) |\n",
      "| >70    | 502(18.2%)  | 128(4.64%) |\n",
      "| >80    | 454(16.4%)  | 104(3.77%) |\n",
      "| >90    | 406(14.7%)  | 85(3.08%)  |\n",
      "\n",
      " Accuracy estimation:\n",
      "Model_2E_Eff_CD's binary damage detection P-R-F1 scores=\n",
      " No damage: 1971 \tDamage: 786\n",
      " Prec:\t 0.7043165983090692 \n",
      " Recall:\t 0.6960448341727715 \n",
      " F1:\t 0.5830581288905765 \n",
      "\n",
      "Model_2E_Eff_CD's damage severity detection P-R-F1 scores=\n",
      " D damage: 123 \tC Damage: 663\n",
      " Prec:\t 0.5035169020808716 \n",
      " Recall:\t 0.47672509591100914 \n",
      " F1:\t 0.40714755835618965 \n",
      "\n",
      "| Type   | Collapsed   | Possibly   |\n",
      "|--------+-------------+------------|\n",
      "| >10    | 689(24.9%)  | 12(0.43%)  |\n",
      "| >20    | 633(22.9%)  | 9(0.32%)   |\n",
      "| >30    | 590(21.4%)  | 9(0.32%)   |\n",
      "| >40    | 554(20.0%)  | 9(0.32%)   |\n",
      "| >50    | 522(18.9%)  | 8(0.29%)   |\n",
      "| >60    | 468(16.9%)  | 5(0.18%)   |\n",
      "| >70    | 432(15.6%)  | 4(0.14%)   |\n",
      "| >80    | 364(13.2%)  | 2(0.07%)   |\n",
      "| >90    | 311(11.2%)  | 1(0.03%)   |\n",
      "\n",
      " Accuracy estimation:\n",
      "Model_2E_Eff_ARIA's binary damage detection P-R-F1 scores=\n",
      " No damage: 2164 \tDamage: 593\n",
      " Prec:\t 0.6928607942944955 \n",
      " Recall:\t 0.6532845856363172 \n",
      " F1:\t 0.5157542111697881 \n",
      "\n",
      "Model_2E_Eff_ARIA's damage severity detection P-R-F1 scores=\n",
      " D damage: 7 \tC Damage: 586\n",
      " Prec:\t 0.5571318621005398 \n",
      " Recall:\t 0.4531821445345701 \n",
      " F1:\t 0.3657917713838807 \n",
      "\n",
      "| Type   | Collapsed   | Possibly    |\n",
      "|--------+-------------+-------------|\n",
      "| >10    | 556(20.1%)  | 1325(48.0%) |\n",
      "| >20    | 464(16.8%)  | 1248(45.2%) |\n",
      "| >30    | 398(14.4%)  | 1168(42.3%) |\n",
      "| >40    | 339(12.2%)  | 1110(40.2%) |\n",
      "| >50    | 298(10.8%)  | 1060(38.4%) |\n",
      "| >60    | 254(9.21%)  | 1001(36.3%) |\n",
      "| >70    | 208(7.54%)  | 924(33.5%)  |\n",
      "| >80    | 171(6.20%)  | 842(30.5%)  |\n",
      "| >90    | 126(4.57%)  | 755(27.3%)  |\n",
      "\n",
      " Accuracy estimation:\n",
      "Model_2E_Tra's binary damage detection P-R-F1 scores=\n",
      " No damage: 1446 \tDamage: 1311\n",
      " Prec:\t 0.73003013125453 \n",
      " Recall:\t 0.7700836506516897 \n",
      " F1:\t 0.7117140008885325 \n",
      "\n",
      "Model_2E_Tra's damage severity detection P-R-F1 scores=\n",
      " D damage: 940 \tC Damage: 371\n",
      " Prec:\t 0.5465966275271475 \n",
      " Recall:\t 0.5106525428535628 \n",
      " F1:\t 0.40321462525344004 \n",
      "\n",
      "| Type   | Collapsed   | Possibly   |\n",
      "|--------+-------------+------------|\n",
      "| >10    | 1039(37.6%) | 726(26.3%) |\n",
      "| >20    | 1001(36.3%) | 660(23.9%) |\n",
      "| >30    | 968(35.1%)  | 628(22.7%) |\n",
      "| >40    | 922(33.4%)  | 598(21.6%) |\n",
      "| >50    | 857(31.0%)  | 563(20.4%) |\n",
      "| >60    | 791(28.6%)  | 518(18.7%) |\n",
      "| >70    | 716(25.9%)  | 474(17.1%) |\n",
      "| >80    | 642(23.2%)  | 419(15.1%) |\n",
      "| >90    | 531(19.2%)  | 352(12.7%) |\n",
      "\n",
      " Accuracy estimation:\n",
      "Model_2E_Tra_CD's binary damage detection P-R-F1 scores=\n",
      " No damage: 1515 \tDamage: 1242\n",
      " Prec:\t 0.760232617464645 \n",
      " Recall:\t 0.8032763481591406 \n",
      " F1:\t 0.7329179344171326 \n",
      "\n",
      "Model_2E_Tra_CD's damage severity detection P-R-F1 scores=\n",
      " D damage: 287 \tC Damage: 955\n",
      " Prec:\t 0.5830973636794878 \n",
      " Recall:\t 0.5931947098389921 \n",
      " F1:\t 0.5491300059421417 \n",
      "\n",
      "| Type   | Collapsed   | Possibly   |\n",
      "|--------+-------------+------------|\n",
      "| >10    | 731(26.5%)  | 163(5.91%) |\n",
      "| >20    | 665(24.1%)  | 146(5.29%) |\n",
      "| >30    | 612(22.1%)  | 123(4.46%) |\n",
      "| >40    | 568(20.6%)  | 113(4.09%) |\n",
      "| >50    | 510(18.4%)  | 97(3.51%)  |\n",
      "| >60    | 455(16.5%)  | 85(3.08%)  |\n",
      "| >70    | 389(14.1%)  | 72(2.61%)  |\n",
      "| >80    | 325(11.7%)  | 54(1.95%)  |\n",
      "| >90    | 260(9.43%)  | 44(1.59%)  |\n",
      "\n",
      " Accuracy estimation:\n",
      "Model_2E_Tra_ARIA's binary damage detection P-R-F1 scores=\n",
      " No damage: 2050 \tDamage: 707\n",
      " Prec:\t 0.6773201780108324 \n",
      " Recall:\t 0.6591746914971893 \n",
      " F1:\t 0.5396685429712436 \n",
      "\n",
      "Model_2E_Tra_ARIA's damage severity detection P-R-F1 scores=\n",
      " D damage: 100 \tC Damage: 607\n",
      " Prec:\t 0.6123577235772358 \n",
      " Recall:\t 0.4996059849569403 \n",
      " F1:\t 0.4473327616658369 \n",
      "\n"
     ]
    }
   ],
   "source": [
    "A.Poly_to_Matching(Models,T=0.25)"
   ]
  },
  {
   "cell_type": "code",
   "execution_count": null,
   "metadata": {},
   "outputs": [],
   "source": []
  },
  {
   "cell_type": "code",
   "execution_count": 8,
   "metadata": {},
   "outputs": [],
   "source": [
    "#A.Poly_to_Matching(['Ensemble'],T=0.25)"
   ]
  },
  {
   "cell_type": "code",
   "execution_count": 9,
   "metadata": {},
   "outputs": [
    {
     "data": {
      "application/vnd.jupyter.widget-view+json": {
       "model_id": "dad69562af84412a9bb3f3e0f967091a",
       "version_major": 2,
       "version_minor": 0
      },
      "text/plain": [
       "Model_2E_Eff's Mask Generatrion for:\tC, rotation= 0:   0%|          | 0/1551 [00:00<?, ?it/s]"
      ]
     },
     "metadata": {},
     "output_type": "display_data"
    },
    {
     "data": {
      "application/vnd.jupyter.widget-view+json": {
       "model_id": "21283b62cbe34cb794bde9717e47b6f9",
       "version_major": 2,
       "version_minor": 0
      },
      "text/plain": [
       "Model_2E_Eff's Mask Generatrion for:\tD, rotation= 0:   0%|          | 0/1551 [00:00<?, ?it/s]"
      ]
     },
     "metadata": {},
     "output_type": "display_data"
    },
    {
     "data": {
      "application/vnd.jupyter.widget-view+json": {
       "model_id": "a7316fcd66b1454fb6b4e164c22fb961",
       "version_major": 2,
       "version_minor": 0
      },
      "text/plain": [
       "Model_2E_Eff's Mask Generatrion for:\tC, rotation= 90:   0%|          | 0/1551 [00:00<?, ?it/s]"
      ]
     },
     "metadata": {},
     "output_type": "display_data"
    },
    {
     "data": {
      "application/vnd.jupyter.widget-view+json": {
       "model_id": "c960318fc94d4680bb45dc77e42af1de",
       "version_major": 2,
       "version_minor": 0
      },
      "text/plain": [
       "Model_2E_Eff's Mask Generatrion for:\tD, rotation= 90:   0%|          | 0/1551 [00:00<?, ?it/s]"
      ]
     },
     "metadata": {},
     "output_type": "display_data"
    },
    {
     "data": {
      "application/vnd.jupyter.widget-view+json": {
       "model_id": "3f80b570a48b4f9d9c091c56d43e0a9e",
       "version_major": 2,
       "version_minor": 0
      },
      "text/plain": [
       "Model_2E_Eff's Mask Generatrion for:\tC, rotation= 180:   0%|          | 0/1551 [00:00<?, ?it/s]"
      ]
     },
     "metadata": {},
     "output_type": "display_data"
    },
    {
     "data": {
      "application/vnd.jupyter.widget-view+json": {
       "model_id": "6d3d5f8f0a434f27afa895771d96ed5c",
       "version_major": 2,
       "version_minor": 0
      },
      "text/plain": [
       "Model_2E_Eff's Mask Generatrion for:\tD, rotation= 180:   0%|          | 0/1551 [00:00<?, ?it/s]"
      ]
     },
     "metadata": {},
     "output_type": "display_data"
    },
    {
     "data": {
      "application/vnd.jupyter.widget-view+json": {
       "model_id": "7328b33d6b594a4989723069de869e10",
       "version_major": 2,
       "version_minor": 0
      },
      "text/plain": [
       "Model_2E_Eff's Mask Generatrion for:\tC, rotation= 270:   0%|          | 0/1551 [00:00<?, ?it/s]"
      ]
     },
     "metadata": {},
     "output_type": "display_data"
    },
    {
     "data": {
      "application/vnd.jupyter.widget-view+json": {
       "model_id": "73953425a72c4b60865d43ec1b25f62e",
       "version_major": 2,
       "version_minor": 0
      },
      "text/plain": [
       "Model_2E_Eff's Mask Generatrion for:\tD, rotation= 270:   0%|          | 0/1551 [00:00<?, ?it/s]"
      ]
     },
     "metadata": {},
     "output_type": "display_data"
    },
    {
     "data": {
      "application/vnd.jupyter.widget-view+json": {
       "model_id": "37f06148a896427585d116e606de571d",
       "version_major": 2,
       "version_minor": 0
      },
      "text/plain": [
       "Model_2E_Eff_CD's Mask Generatrion for:\tC, rotation= 0:   0%|          | 0/1551 [00:00<?, ?it/s]"
      ]
     },
     "metadata": {},
     "output_type": "display_data"
    },
    {
     "data": {
      "application/vnd.jupyter.widget-view+json": {
       "model_id": "ea1d9f0a83604a34bce8830739576cd0",
       "version_major": 2,
       "version_minor": 0
      },
      "text/plain": [
       "Model_2E_Eff_CD's Mask Generatrion for:\tD, rotation= 0:   0%|          | 0/1551 [00:00<?, ?it/s]"
      ]
     },
     "metadata": {},
     "output_type": "display_data"
    },
    {
     "data": {
      "application/vnd.jupyter.widget-view+json": {
       "model_id": "5146bbf2822e4688b8d5c452255a1118",
       "version_major": 2,
       "version_minor": 0
      },
      "text/plain": [
       "Model_2E_Eff_CD's Mask Generatrion for:\tC, rotation= 90:   0%|          | 0/1551 [00:00<?, ?it/s]"
      ]
     },
     "metadata": {},
     "output_type": "display_data"
    },
    {
     "data": {
      "application/vnd.jupyter.widget-view+json": {
       "model_id": "9391fd433aa54ed0ae8ff299c988494d",
       "version_major": 2,
       "version_minor": 0
      },
      "text/plain": [
       "Model_2E_Eff_CD's Mask Generatrion for:\tD, rotation= 90:   0%|          | 0/1551 [00:00<?, ?it/s]"
      ]
     },
     "metadata": {},
     "output_type": "display_data"
    },
    {
     "data": {
      "application/vnd.jupyter.widget-view+json": {
       "model_id": "5c41b0045d2149d788965befdf920c97",
       "version_major": 2,
       "version_minor": 0
      },
      "text/plain": [
       "Model_2E_Eff_CD's Mask Generatrion for:\tC, rotation= 180:   0%|          | 0/1551 [00:00<?, ?it/s]"
      ]
     },
     "metadata": {},
     "output_type": "display_data"
    },
    {
     "data": {
      "application/vnd.jupyter.widget-view+json": {
       "model_id": "48bb8a99272f4687b52a338c86d4ab35",
       "version_major": 2,
       "version_minor": 0
      },
      "text/plain": [
       "Model_2E_Eff_CD's Mask Generatrion for:\tD, rotation= 180:   0%|          | 0/1551 [00:00<?, ?it/s]"
      ]
     },
     "metadata": {},
     "output_type": "display_data"
    },
    {
     "data": {
      "application/vnd.jupyter.widget-view+json": {
       "model_id": "d7f095333dd4406ab29d928750d0d226",
       "version_major": 2,
       "version_minor": 0
      },
      "text/plain": [
       "Model_2E_Eff_CD's Mask Generatrion for:\tC, rotation= 270:   0%|          | 0/1551 [00:00<?, ?it/s]"
      ]
     },
     "metadata": {},
     "output_type": "display_data"
    },
    {
     "data": {
      "application/vnd.jupyter.widget-view+json": {
       "model_id": "944527d7e8d04d9cba51512dee79464e",
       "version_major": 2,
       "version_minor": 0
      },
      "text/plain": [
       "Model_2E_Eff_CD's Mask Generatrion for:\tD, rotation= 270:   0%|          | 0/1551 [00:00<?, ?it/s]"
      ]
     },
     "metadata": {},
     "output_type": "display_data"
    },
    {
     "data": {
      "application/vnd.jupyter.widget-view+json": {
       "model_id": "90f06b5970164ce8beb7fb506885fe23",
       "version_major": 2,
       "version_minor": 0
      },
      "text/plain": [
       "Model_2E_Eff_ARIA's Mask Generatrion for:\tC, rotation= 0:   0%|          | 0/1551 [00:00<?, ?it/s]"
      ]
     },
     "metadata": {},
     "output_type": "display_data"
    },
    {
     "data": {
      "application/vnd.jupyter.widget-view+json": {
       "model_id": "759167f997c3455d914532ce1f376d91",
       "version_major": 2,
       "version_minor": 0
      },
      "text/plain": [
       "Model_2E_Eff_ARIA's Mask Generatrion for:\tD, rotation= 0:   0%|          | 0/1551 [00:00<?, ?it/s]"
      ]
     },
     "metadata": {},
     "output_type": "display_data"
    },
    {
     "data": {
      "application/vnd.jupyter.widget-view+json": {
       "model_id": "bb804827d5a94cae8139acb565bad64c",
       "version_major": 2,
       "version_minor": 0
      },
      "text/plain": [
       "Model_2E_Eff_ARIA's Mask Generatrion for:\tC, rotation= 90:   0%|          | 0/1551 [00:00<?, ?it/s]"
      ]
     },
     "metadata": {},
     "output_type": "display_data"
    },
    {
     "data": {
      "application/vnd.jupyter.widget-view+json": {
       "model_id": "752cd278482f4af081007f557857c781",
       "version_major": 2,
       "version_minor": 0
      },
      "text/plain": [
       "Model_2E_Eff_ARIA's Mask Generatrion for:\tD, rotation= 90:   0%|          | 0/1551 [00:00<?, ?it/s]"
      ]
     },
     "metadata": {},
     "output_type": "display_data"
    },
    {
     "data": {
      "application/vnd.jupyter.widget-view+json": {
       "model_id": "8555995410ff4e18988ff194991367b6",
       "version_major": 2,
       "version_minor": 0
      },
      "text/plain": [
       "Model_2E_Eff_ARIA's Mask Generatrion for:\tC, rotation= 180:   0%|          | 0/1551 [00:00<?, ?it/s]"
      ]
     },
     "metadata": {},
     "output_type": "display_data"
    },
    {
     "data": {
      "application/vnd.jupyter.widget-view+json": {
       "model_id": "185884e15a944972ad501e890f31ee12",
       "version_major": 2,
       "version_minor": 0
      },
      "text/plain": [
       "Model_2E_Eff_ARIA's Mask Generatrion for:\tD, rotation= 180:   0%|          | 0/1551 [00:00<?, ?it/s]"
      ]
     },
     "metadata": {},
     "output_type": "display_data"
    },
    {
     "data": {
      "application/vnd.jupyter.widget-view+json": {
       "model_id": "3f65e88d58174c95a1226f770e5b5e43",
       "version_major": 2,
       "version_minor": 0
      },
      "text/plain": [
       "Model_2E_Eff_ARIA's Mask Generatrion for:\tC, rotation= 270:   0%|          | 0/1551 [00:00<?, ?it/s]"
      ]
     },
     "metadata": {},
     "output_type": "display_data"
    },
    {
     "data": {
      "application/vnd.jupyter.widget-view+json": {
       "model_id": "0cf5027853d24700a765d3f8c956be26",
       "version_major": 2,
       "version_minor": 0
      },
      "text/plain": [
       "Model_2E_Eff_ARIA's Mask Generatrion for:\tD, rotation= 270:   0%|          | 0/1551 [00:00<?, ?it/s]"
      ]
     },
     "metadata": {},
     "output_type": "display_data"
    },
    {
     "data": {
      "application/vnd.jupyter.widget-view+json": {
       "model_id": "09920ca854424e03acc24692f0c52655",
       "version_major": 2,
       "version_minor": 0
      },
      "text/plain": [
       "Model_2E_Tra's Mask Generatrion for:\tC, rotation= 0:   0%|          | 0/1551 [00:00<?, ?it/s]"
      ]
     },
     "metadata": {},
     "output_type": "display_data"
    },
    {
     "data": {
      "application/vnd.jupyter.widget-view+json": {
       "model_id": "76d7b86ab71141e4abfa58a0cfac7f2b",
       "version_major": 2,
       "version_minor": 0
      },
      "text/plain": [
       "Model_2E_Tra's Mask Generatrion for:\tD, rotation= 0:   0%|          | 0/1551 [00:00<?, ?it/s]"
      ]
     },
     "metadata": {},
     "output_type": "display_data"
    },
    {
     "data": {
      "application/vnd.jupyter.widget-view+json": {
       "model_id": "30d27a8b1722469fbe47172523fedbe4",
       "version_major": 2,
       "version_minor": 0
      },
      "text/plain": [
       "Model_2E_Tra's Mask Generatrion for:\tC, rotation= 90:   0%|          | 0/1551 [00:00<?, ?it/s]"
      ]
     },
     "metadata": {},
     "output_type": "display_data"
    },
    {
     "data": {
      "application/vnd.jupyter.widget-view+json": {
       "model_id": "0d779019ad4f4c3a87a301760d4c1c13",
       "version_major": 2,
       "version_minor": 0
      },
      "text/plain": [
       "Model_2E_Tra's Mask Generatrion for:\tD, rotation= 90:   0%|          | 0/1551 [00:00<?, ?it/s]"
      ]
     },
     "metadata": {},
     "output_type": "display_data"
    },
    {
     "data": {
      "application/vnd.jupyter.widget-view+json": {
       "model_id": "2658354862dc433dbf10addff59ee06c",
       "version_major": 2,
       "version_minor": 0
      },
      "text/plain": [
       "Model_2E_Tra's Mask Generatrion for:\tC, rotation= 180:   0%|          | 0/1551 [00:00<?, ?it/s]"
      ]
     },
     "metadata": {},
     "output_type": "display_data"
    },
    {
     "data": {
      "application/vnd.jupyter.widget-view+json": {
       "model_id": "a0cc0d9bb7504d4091f7c8243c538427",
       "version_major": 2,
       "version_minor": 0
      },
      "text/plain": [
       "Model_2E_Tra's Mask Generatrion for:\tD, rotation= 180:   0%|          | 0/1551 [00:00<?, ?it/s]"
      ]
     },
     "metadata": {},
     "output_type": "display_data"
    },
    {
     "data": {
      "application/vnd.jupyter.widget-view+json": {
       "model_id": "9593be252511483a8a5b186f27a9a095",
       "version_major": 2,
       "version_minor": 0
      },
      "text/plain": [
       "Model_2E_Tra's Mask Generatrion for:\tC, rotation= 270:   0%|          | 0/1551 [00:00<?, ?it/s]"
      ]
     },
     "metadata": {},
     "output_type": "display_data"
    },
    {
     "data": {
      "application/vnd.jupyter.widget-view+json": {
       "model_id": "daf904b86e9940a28e354b559d725f0f",
       "version_major": 2,
       "version_minor": 0
      },
      "text/plain": [
       "Model_2E_Tra's Mask Generatrion for:\tD, rotation= 270:   0%|          | 0/1551 [00:00<?, ?it/s]"
      ]
     },
     "metadata": {},
     "output_type": "display_data"
    },
    {
     "data": {
      "application/vnd.jupyter.widget-view+json": {
       "model_id": "7a51576c99c84331844ff7f3705fe9d1",
       "version_major": 2,
       "version_minor": 0
      },
      "text/plain": [
       "Model_2E_Tra_CD's Mask Generatrion for:\tC, rotation= 0:   0%|          | 0/1551 [00:00<?, ?it/s]"
      ]
     },
     "metadata": {},
     "output_type": "display_data"
    },
    {
     "data": {
      "application/vnd.jupyter.widget-view+json": {
       "model_id": "cd8785c188324296bfbfc51c41808118",
       "version_major": 2,
       "version_minor": 0
      },
      "text/plain": [
       "Model_2E_Tra_CD's Mask Generatrion for:\tD, rotation= 0:   0%|          | 0/1551 [00:00<?, ?it/s]"
      ]
     },
     "metadata": {},
     "output_type": "display_data"
    },
    {
     "data": {
      "application/vnd.jupyter.widget-view+json": {
       "model_id": "2933b03cd17c4dbdb1a915e923bd3168",
       "version_major": 2,
       "version_minor": 0
      },
      "text/plain": [
       "Model_2E_Tra_CD's Mask Generatrion for:\tC, rotation= 90:   0%|          | 0/1551 [00:00<?, ?it/s]"
      ]
     },
     "metadata": {},
     "output_type": "display_data"
    },
    {
     "data": {
      "application/vnd.jupyter.widget-view+json": {
       "model_id": "77a7a70b900047dd91d1fc903a6d9ce3",
       "version_major": 2,
       "version_minor": 0
      },
      "text/plain": [
       "Model_2E_Tra_CD's Mask Generatrion for:\tD, rotation= 90:   0%|          | 0/1551 [00:00<?, ?it/s]"
      ]
     },
     "metadata": {},
     "output_type": "display_data"
    },
    {
     "data": {
      "application/vnd.jupyter.widget-view+json": {
       "model_id": "5b1adaf871454ace9b72e75a9a922a82",
       "version_major": 2,
       "version_minor": 0
      },
      "text/plain": [
       "Model_2E_Tra_CD's Mask Generatrion for:\tC, rotation= 180:   0%|          | 0/1551 [00:00<?, ?it/s]"
      ]
     },
     "metadata": {},
     "output_type": "display_data"
    },
    {
     "data": {
      "application/vnd.jupyter.widget-view+json": {
       "model_id": "b0fca8f003df44f4b521f0a85f276106",
       "version_major": 2,
       "version_minor": 0
      },
      "text/plain": [
       "Model_2E_Tra_CD's Mask Generatrion for:\tD, rotation= 180:   0%|          | 0/1551 [00:00<?, ?it/s]"
      ]
     },
     "metadata": {},
     "output_type": "display_data"
    },
    {
     "data": {
      "application/vnd.jupyter.widget-view+json": {
       "model_id": "320ca7c725a84281a065f67c48814ad7",
       "version_major": 2,
       "version_minor": 0
      },
      "text/plain": [
       "Model_2E_Tra_CD's Mask Generatrion for:\tC, rotation= 270:   0%|          | 0/1551 [00:00<?, ?it/s]"
      ]
     },
     "metadata": {},
     "output_type": "display_data"
    },
    {
     "data": {
      "application/vnd.jupyter.widget-view+json": {
       "model_id": "e6a7e4dd2a1c4675979238d046c9008d",
       "version_major": 2,
       "version_minor": 0
      },
      "text/plain": [
       "Model_2E_Tra_CD's Mask Generatrion for:\tD, rotation= 270:   0%|          | 0/1551 [00:00<?, ?it/s]"
      ]
     },
     "metadata": {},
     "output_type": "display_data"
    },
    {
     "data": {
      "application/vnd.jupyter.widget-view+json": {
       "model_id": "e8539afe18c64330b1860e2fce49c4c4",
       "version_major": 2,
       "version_minor": 0
      },
      "text/plain": [
       "Model_2E_Tra_ARIA's Mask Generatrion for:\tC, rotation= 0:   0%|          | 0/1551 [00:00<?, ?it/s]"
      ]
     },
     "metadata": {},
     "output_type": "display_data"
    },
    {
     "data": {
      "application/vnd.jupyter.widget-view+json": {
       "model_id": "8731def265ac46ba9d628f7b03b60291",
       "version_major": 2,
       "version_minor": 0
      },
      "text/plain": [
       "Model_2E_Tra_ARIA's Mask Generatrion for:\tD, rotation= 0:   0%|          | 0/1551 [00:00<?, ?it/s]"
      ]
     },
     "metadata": {},
     "output_type": "display_data"
    },
    {
     "data": {
      "application/vnd.jupyter.widget-view+json": {
       "model_id": "346367e46d1c454e965efd99224b460a",
       "version_major": 2,
       "version_minor": 0
      },
      "text/plain": [
       "Model_2E_Tra_ARIA's Mask Generatrion for:\tC, rotation= 90:   0%|          | 0/1551 [00:00<?, ?it/s]"
      ]
     },
     "metadata": {},
     "output_type": "display_data"
    },
    {
     "data": {
      "application/vnd.jupyter.widget-view+json": {
       "model_id": "c268280503f947d48c6e456814615b75",
       "version_major": 2,
       "version_minor": 0
      },
      "text/plain": [
       "Model_2E_Tra_ARIA's Mask Generatrion for:\tD, rotation= 90:   0%|          | 0/1551 [00:00<?, ?it/s]"
      ]
     },
     "metadata": {},
     "output_type": "display_data"
    },
    {
     "data": {
      "application/vnd.jupyter.widget-view+json": {
       "model_id": "0b5d0f1c73c34c7c9fe45d63efe7433e",
       "version_major": 2,
       "version_minor": 0
      },
      "text/plain": [
       "Model_2E_Tra_ARIA's Mask Generatrion for:\tC, rotation= 180:   0%|          | 0/1551 [00:00<?, ?it/s]"
      ]
     },
     "metadata": {},
     "output_type": "display_data"
    },
    {
     "data": {
      "application/vnd.jupyter.widget-view+json": {
       "model_id": "2da93b78a85942f3b8e45c646bdcf44d",
       "version_major": 2,
       "version_minor": 0
      },
      "text/plain": [
       "Model_2E_Tra_ARIA's Mask Generatrion for:\tD, rotation= 180:   0%|          | 0/1551 [00:00<?, ?it/s]"
      ]
     },
     "metadata": {},
     "output_type": "display_data"
    },
    {
     "data": {
      "application/vnd.jupyter.widget-view+json": {
       "model_id": "33c90bee1d1d4da297c7f83b464350e0",
       "version_major": 2,
       "version_minor": 0
      },
      "text/plain": [
       "Model_2E_Tra_ARIA's Mask Generatrion for:\tC, rotation= 270:   0%|          | 0/1551 [00:00<?, ?it/s]"
      ]
     },
     "metadata": {},
     "output_type": "display_data"
    },
    {
     "data": {
      "application/vnd.jupyter.widget-view+json": {
       "model_id": "81dc937d1d4c41a9905518027d0145d9",
       "version_major": 2,
       "version_minor": 0
      },
      "text/plain": [
       "Model_2E_Tra_ARIA's Mask Generatrion for:\tD, rotation= 270:   0%|          | 0/1551 [00:00<?, ?it/s]"
      ]
     },
     "metadata": {},
     "output_type": "display_data"
    }
   ],
   "source": [
    "A.Model_Mask(Models,['C','D'],rotate=True)"
   ]
  },
  {
   "cell_type": "code",
   "execution_count": 10,
   "metadata": {},
   "outputs": [
    {
     "name": "stdout",
     "output_type": "stream",
     "text": [
      "Ensemble across rotations:\n"
     ]
    },
    {
     "data": {
      "application/vnd.jupyter.widget-view+json": {
       "model_id": "38081648d12444ff94cdbf7edc0e3092",
       "version_major": 2,
       "version_minor": 0
      },
      "text/plain": [
       "Ensemble across rotations:   0%|          | 0/6 [00:00<?, ?it/s]"
      ]
     },
     "metadata": {},
     "output_type": "display_data"
    },
    {
     "data": {
      "application/vnd.jupyter.widget-view+json": {
       "model_id": "80a7fcf70928407dac282bd35fb2904f",
       "version_major": 2,
       "version_minor": 0
      },
      "text/plain": [
       "Ensemble for:\tD:   0%|          | 0/1551 [00:00<?, ?it/s]"
      ]
     },
     "metadata": {},
     "output_type": "display_data"
    },
    {
     "data": {
      "application/vnd.jupyter.widget-view+json": {
       "model_id": "254f9e2d5ee345cdba846947f490c106",
       "version_major": 2,
       "version_minor": 0
      },
      "text/plain": [
       "Ensemble for:\tC:   0%|          | 0/1551 [00:00<?, ?it/s]"
      ]
     },
     "metadata": {},
     "output_type": "display_data"
    },
    {
     "data": {
      "application/vnd.jupyter.widget-view+json": {
       "model_id": "034d432625304006bad18804389d0978",
       "version_major": 2,
       "version_minor": 0
      },
      "text/plain": [
       "Masks to polygon for EnsembleR Damage case:\tD:   0%|          | 0/1551 [00:00<?, ?it/s]"
      ]
     },
     "metadata": {},
     "output_type": "display_data"
    },
    {
     "data": {
      "application/vnd.jupyter.widget-view+json": {
       "model_id": "b455c1d2154f4ed88e1dfc4e16d4037a",
       "version_major": 2,
       "version_minor": 0
      },
      "text/plain": [
       "Masks to polygon for EnsembleR Damage case:\tC:   0%|          | 0/1551 [00:00<?, ?it/s]"
      ]
     },
     "metadata": {},
     "output_type": "display_data"
    }
   ],
   "source": [
    "A.Rotation_Ens(Models,['C','D'])"
   ]
  },
  {
   "cell_type": "code",
   "execution_count": 12,
   "metadata": {},
   "outputs": [
    {
     "name": "stdout",
     "output_type": "stream",
     "text": [
      "| Type   | Collapsed   | Possibly   |\n",
      "|--------+-------------+------------|\n",
      "| >10    | 1140(41.3%) | 214(7.76%) |\n",
      "| >20    | 1102(39.9%) | 178(6.45%) |\n",
      "| >30    | 1077(39.0%) | 160(5.80%) |\n",
      "| >40    | 1035(37.5%) | 151(5.47%) |\n",
      "| >50    | 997(36.1%)  | 136(4.93%) |\n",
      "| >60    | 935(33.9%)  | 122(4.42%) |\n",
      "| >70    | 874(31.7%)  | 109(3.95%) |\n",
      "| >80    | 792(28.7%)  | 88(3.19%)  |\n",
      "| >90    | 704(25.5%)  | 68(2.46%)  |\n",
      "\n",
      " Accuracy estimation:\n",
      "Ensemble's binary damage detection P-R-F1 scores=\n",
      " No damage: 1602 \tDamage: 1155\n",
      " Prec:\t 0.7574606417303047 \n",
      " Recall:\t 0.795051567845844 \n",
      " F1:\t 0.7156416936999556 \n",
      "\n",
      "Ensemble's damage severity detection P-R-F1 scores=\n",
      " D damage: 77 \tC Damage: 1078\n",
      " Prec:\t 0.6309684014338911 \n",
      " Recall:\t 0.583480242057191 \n",
      " F1:\t 0.546552004733673 \n",
      "\n",
      "| Type   | Collapsed   | Possibly   |\n",
      "|--------+-------------+------------|\n",
      "| >10    | 1447(52.4%) | 912(33.0%) |\n",
      "| >20    | 1413(51.2%) | 847(30.7%) |\n",
      "| >30    | 1382(50.1%) | 806(29.2%) |\n",
      "| >40    | 1354(49.1%) | 757(27.4%) |\n",
      "| >50    | 1315(47.6%) | 713(25.8%) |\n",
      "| >60    | 1258(45.6%) | 658(23.8%) |\n",
      "| >70    | 1184(42.9%) | 586(21.2%) |\n",
      "| >80    | 1116(40.4%) | 522(18.9%) |\n",
      "| >90    | 1000(36.2%) | 440(15.9%) |\n",
      "\n",
      " Accuracy estimation:\n",
      "EnsembleR's binary damage detection P-R-F1 scores=\n",
      " No damage: 1042 \tDamage: 1715\n",
      " Prec:\t 0.8587069047525784 \n",
      " Recall:\t 0.8970216255453458 \n",
      " F1:\t 0.8718687923900474 \n",
      "\n",
      "EnsembleR's damage severity detection P-R-F1 scores=\n",
      " D damage: 319 \tC Damage: 1396\n",
      " Prec:\t 0.792821582862946 \n",
      " Recall:\t 0.8440645070085866 \n",
      " F1:\t 0.8112712983312608 \n",
      "\n"
     ]
    }
   ],
   "source": [
    "A.Poly_to_Matching(['Ensemble','EnsembleR'],T=0.25)"
   ]
  },
  {
   "cell_type": "code",
   "execution_count": null,
   "metadata": {},
   "outputs": [
    {
     "name": "stdout",
     "output_type": "stream",
     "text": [
      "Ensemble across rotations:\n"
     ]
    },
    {
     "data": {
      "application/vnd.jupyter.widget-view+json": {
       "model_id": "f6783aa413084d4abc08bf2865b06af4",
       "version_major": 2,
       "version_minor": 0
      },
      "text/plain": [
       "Ensemble across rotations:   0%|          | 0/6 [00:00<?, ?it/s]"
      ]
     },
     "metadata": {},
     "output_type": "display_data"
    },
    {
     "ename": "FileNotFoundError",
     "evalue": "[Errno 2] No such file or directory: 'c:\\\\Users\\\\solei\\\\RAPIDA_2\\\\RAPID_A/Results/Model_2E_Eff/Mask_Results_C_0/1.png'",
     "output_type": "error",
     "traceback": [
      "\u001b[1;31m---------------------------------------------------------------------------\u001b[0m",
      "\u001b[1;31mFileNotFoundError\u001b[0m                         Traceback (most recent call last)",
      "Cell \u001b[1;32mIn[5], line 1\u001b[0m\n\u001b[1;32m----> 1\u001b[0m \u001b[43mA\u001b[49m\u001b[38;5;241;43m.\u001b[39;49m\u001b[43mRotation_Ens\u001b[49m\u001b[43m(\u001b[49m\u001b[43mModels\u001b[49m\u001b[43m,\u001b[49m\u001b[43m[\u001b[49m\u001b[38;5;124;43m'\u001b[39;49m\u001b[38;5;124;43mC\u001b[39;49m\u001b[38;5;124;43m'\u001b[39;49m\u001b[43m,\u001b[49m\u001b[38;5;124;43m'\u001b[39;49m\u001b[38;5;124;43mD\u001b[39;49m\u001b[38;5;124;43m'\u001b[39;49m\u001b[43m]\u001b[49m\u001b[43m)\u001b[49m\n",
      "File \u001b[1;32mc:\\Users\\solei\\RAPIDA_2\\RAPID_A\\Main.py:1123\u001b[0m, in \u001b[0;36mRAPID_A.Rotation_Ens\u001b[1;34m(self, Models, damage_cases)\u001b[0m\n\u001b[0;32m   1121\u001b[0m \u001b[38;5;28;01mfor\u001b[39;00m degree \u001b[38;5;129;01min\u001b[39;00m ([\u001b[38;5;241m0\u001b[39m,\u001b[38;5;241m90\u001b[39m,\u001b[38;5;241m180\u001b[39m,\u001b[38;5;241m270\u001b[39m]):\n\u001b[0;32m   1122\u001b[0m     DIR1 \u001b[38;5;241m=\u001b[39m Source\u001b[38;5;241m+\u001b[39m\u001b[38;5;124m'\u001b[39m\u001b[38;5;124m/Results/\u001b[39m\u001b[38;5;124m'\u001b[39m\u001b[38;5;241m+\u001b[39mModel\u001b[38;5;241m+\u001b[39m\u001b[38;5;124m'\u001b[39m\u001b[38;5;124m/Mask_Results_\u001b[39m\u001b[38;5;124m'\u001b[39m\u001b[38;5;241m+\u001b[39mdamage_case\u001b[38;5;241m+\u001b[39m\u001b[38;5;124m'\u001b[39m\u001b[38;5;124m_\u001b[39m\u001b[38;5;124m'\u001b[39m\u001b[38;5;241m+\u001b[39m\u001b[38;5;28mstr\u001b[39m(degree)\u001b[38;5;241m+\u001b[39m\u001b[38;5;124m'\u001b[39m\u001b[38;5;124m/\u001b[39m\u001b[38;5;124m'\u001b[39m\n\u001b[1;32m-> 1123\u001b[0m     img1  \u001b[38;5;241m=\u001b[39m \u001b[43mImage\u001b[49m\u001b[38;5;241;43m.\u001b[39;49m\u001b[43mopen\u001b[49m\u001b[43m(\u001b[49m\u001b[43mDIR1\u001b[49m\u001b[38;5;241;43m+\u001b[39;49m\u001b[43mKL\u001b[49m\u001b[43m)\u001b[49m\u001b[38;5;241m.\u001b[39mconvert(\u001b[38;5;124m\"\u001b[39m\u001b[38;5;124mL\u001b[39m\u001b[38;5;124m\"\u001b[39m)\n\u001b[0;32m   1124\u001b[0m     img1\u001b[38;5;241m=\u001b[39mimg1\u001b[38;5;241m.\u001b[39mrotate(\u001b[38;5;241m-\u001b[39mdegree)\n\u001b[0;32m   1125\u001b[0m     U\u001b[38;5;241m=\u001b[39mnp\u001b[38;5;241m.\u001b[39masarray(img1)\u001b[38;5;241m/\u001b[39m\u001b[38;5;241m255\u001b[39m\n",
      "File \u001b[1;32mc:\\Users\\solei\\Anaconda3\\envs\\RAPID_TEST_1\\lib\\site-packages\\PIL\\Image.py:3247\u001b[0m, in \u001b[0;36mopen\u001b[1;34m(fp, mode, formats)\u001b[0m\n\u001b[0;32m   3244\u001b[0m     filename \u001b[38;5;241m=\u001b[39m fp\n\u001b[0;32m   3246\u001b[0m \u001b[38;5;28;01mif\u001b[39;00m filename:\n\u001b[1;32m-> 3247\u001b[0m     fp \u001b[38;5;241m=\u001b[39m \u001b[43mbuiltins\u001b[49m\u001b[38;5;241;43m.\u001b[39;49m\u001b[43mopen\u001b[49m\u001b[43m(\u001b[49m\u001b[43mfilename\u001b[49m\u001b[43m,\u001b[49m\u001b[43m \u001b[49m\u001b[38;5;124;43m\"\u001b[39;49m\u001b[38;5;124;43mrb\u001b[39;49m\u001b[38;5;124;43m\"\u001b[39;49m\u001b[43m)\u001b[49m\n\u001b[0;32m   3248\u001b[0m     exclusive_fp \u001b[38;5;241m=\u001b[39m \u001b[38;5;28;01mTrue\u001b[39;00m\n\u001b[0;32m   3250\u001b[0m \u001b[38;5;28;01mtry\u001b[39;00m:\n",
      "\u001b[1;31mFileNotFoundError\u001b[0m: [Errno 2] No such file or directory: 'c:\\\\Users\\\\solei\\\\RAPIDA_2\\\\RAPID_A/Results/Model_2E_Eff/Mask_Results_C_0/1.png'"
     ]
    }
   ],
   "source": []
  },
  {
   "cell_type": "code",
   "execution_count": null,
   "metadata": {},
   "outputs": [
    {
     "data": {
      "application/vnd.jupyter.widget-view+json": {
       "model_id": "edc5d0e683ec47838a89632f295ed495",
       "version_major": 2,
       "version_minor": 0
      },
      "text/plain": [
       "Ensemble for:\tD:   0%|          | 0/1551 [00:00<?, ?it/s]"
      ]
     },
     "metadata": {},
     "output_type": "display_data"
    },
    {
     "ename": "FileNotFoundError",
     "evalue": "[Errno 2] No such file or directory: 'c:\\\\Users\\\\solei\\\\RAPIDA_2\\\\RAPID_A/Results/Model_2E_Eff/Mask_Results_DE/1.png'",
     "output_type": "error",
     "traceback": [
      "\u001b[1;31m---------------------------------------------------------------------------\u001b[0m",
      "\u001b[1;31mFileNotFoundError\u001b[0m                         Traceback (most recent call last)",
      "Cell \u001b[1;32mIn[7], line 1\u001b[0m\n\u001b[1;32m----> 1\u001b[0m \u001b[43mA\u001b[49m\u001b[38;5;241;43m.\u001b[39;49m\u001b[43mEnsemble\u001b[49m\u001b[43m(\u001b[49m\u001b[43m[\u001b[49m\u001b[38;5;124;43m'\u001b[39;49m\u001b[38;5;124;43mC\u001b[39;49m\u001b[38;5;124;43m'\u001b[39;49m\u001b[43m,\u001b[49m\u001b[38;5;124;43m'\u001b[39;49m\u001b[38;5;124;43mD\u001b[39;49m\u001b[38;5;124;43m'\u001b[39;49m\u001b[43m]\u001b[49m\u001b[43m,\u001b[49m\u001b[43mrotate\u001b[49m\u001b[38;5;241;43m=\u001b[39;49m\u001b[38;5;28;43;01mTrue\u001b[39;49;00m\u001b[43m)\u001b[49m\n",
      "File \u001b[1;32mc:\\Users\\solei\\RAPIDA_2\\RAPID_A\\Main.py:1052\u001b[0m, in \u001b[0;36mRAPID_A.Ensemble\u001b[1;34m(self, Damage_Classes, rotate)\u001b[0m\n\u001b[0;32m   1050\u001b[0m \u001b[38;5;28;01mfor\u001b[39;00m i1 \u001b[38;5;129;01min\u001b[39;00m tqdm(\u001b[38;5;28mrange\u001b[39m(\u001b[38;5;241m1\u001b[39m,\u001b[38;5;28mlen\u001b[39m(F)\u001b[38;5;241m+\u001b[39m\u001b[38;5;241m1\u001b[39m),desc\u001b[38;5;241m=\u001b[39m\u001b[38;5;124m'\u001b[39m\u001b[38;5;124mEnsemble for:\u001b[39m\u001b[38;5;130;01m\\t\u001b[39;00m\u001b[38;5;124m'\u001b[39m\u001b[38;5;241m+\u001b[39mdamage_class):\n\u001b[0;32m   1051\u001b[0m     \u001b[38;5;28;01mif\u001b[39;00m rotate:\n\u001b[1;32m-> 1052\u001b[0m         im1\u001b[38;5;241m=\u001b[39m\u001b[43mImage\u001b[49m\u001b[38;5;241;43m.\u001b[39;49m\u001b[43mopen\u001b[49m\u001b[43m(\u001b[49m\u001b[43mSource\u001b[49m\u001b[38;5;241;43m+\u001b[39;49m\u001b[38;5;124;43m'\u001b[39;49m\u001b[38;5;124;43m/Results/\u001b[39;49m\u001b[38;5;124;43m'\u001b[39;49m\u001b[38;5;241;43m+\u001b[39;49m\u001b[43mModels\u001b[49m\u001b[43m[\u001b[49m\u001b[38;5;241;43m0\u001b[39;49m\u001b[43m]\u001b[49m\u001b[38;5;241;43m+\u001b[39;49m\u001b[38;5;124;43m'\u001b[39;49m\u001b[38;5;124;43m/Mask_Results_\u001b[39;49m\u001b[38;5;124;43m'\u001b[39;49m\u001b[38;5;241;43m+\u001b[39;49m\u001b[43mdamage_class\u001b[49m\u001b[38;5;241;43m+\u001b[39;49m\u001b[38;5;124;43m'\u001b[39;49m\u001b[38;5;124;43mE/\u001b[39;49m\u001b[38;5;124;43m'\u001b[39;49m\u001b[38;5;241;43m+\u001b[39;49m\u001b[38;5;28;43mstr\u001b[39;49m\u001b[43m(\u001b[49m\u001b[43mi1\u001b[49m\u001b[43m)\u001b[49m\u001b[38;5;241;43m+\u001b[39;49m\u001b[38;5;124;43m'\u001b[39;49m\u001b[38;5;124;43m.png\u001b[39;49m\u001b[38;5;124;43m'\u001b[39;49m\u001b[43m)\u001b[49m\n\u001b[0;32m   1053\u001b[0m         im2\u001b[38;5;241m=\u001b[39mImage\u001b[38;5;241m.\u001b[39mopen(Source\u001b[38;5;241m+\u001b[39m\u001b[38;5;124m'\u001b[39m\u001b[38;5;124m/Results/\u001b[39m\u001b[38;5;124m'\u001b[39m\u001b[38;5;241m+\u001b[39mModels[\u001b[38;5;241m1\u001b[39m]\u001b[38;5;241m+\u001b[39m\u001b[38;5;124m'\u001b[39m\u001b[38;5;124m/Mask_Results_\u001b[39m\u001b[38;5;124m'\u001b[39m\u001b[38;5;241m+\u001b[39mdamage_class\u001b[38;5;241m+\u001b[39m\u001b[38;5;124m'\u001b[39m\u001b[38;5;124mE/\u001b[39m\u001b[38;5;124m'\u001b[39m\u001b[38;5;241m+\u001b[39m\u001b[38;5;28mstr\u001b[39m(i1)\u001b[38;5;241m+\u001b[39m\u001b[38;5;124m'\u001b[39m\u001b[38;5;124m.png\u001b[39m\u001b[38;5;124m'\u001b[39m)\n\u001b[0;32m   1054\u001b[0m         im3\u001b[38;5;241m=\u001b[39mImage\u001b[38;5;241m.\u001b[39mopen(Source\u001b[38;5;241m+\u001b[39m\u001b[38;5;124m'\u001b[39m\u001b[38;5;124m/Results/\u001b[39m\u001b[38;5;124m'\u001b[39m\u001b[38;5;241m+\u001b[39mModels[\u001b[38;5;241m2\u001b[39m]\u001b[38;5;241m+\u001b[39m\u001b[38;5;124m'\u001b[39m\u001b[38;5;124m/Mask_Results_\u001b[39m\u001b[38;5;124m'\u001b[39m\u001b[38;5;241m+\u001b[39mdamage_class\u001b[38;5;241m+\u001b[39m\u001b[38;5;124m'\u001b[39m\u001b[38;5;124mE/\u001b[39m\u001b[38;5;124m'\u001b[39m\u001b[38;5;241m+\u001b[39m\u001b[38;5;28mstr\u001b[39m(i1)\u001b[38;5;241m+\u001b[39m\u001b[38;5;124m'\u001b[39m\u001b[38;5;124m.png\u001b[39m\u001b[38;5;124m'\u001b[39m)\n",
      "File \u001b[1;32mc:\\Users\\solei\\Anaconda3\\envs\\RAPID_TEST_1\\lib\\site-packages\\PIL\\Image.py:3247\u001b[0m, in \u001b[0;36mopen\u001b[1;34m(fp, mode, formats)\u001b[0m\n\u001b[0;32m   3244\u001b[0m     filename \u001b[38;5;241m=\u001b[39m fp\n\u001b[0;32m   3246\u001b[0m \u001b[38;5;28;01mif\u001b[39;00m filename:\n\u001b[1;32m-> 3247\u001b[0m     fp \u001b[38;5;241m=\u001b[39m \u001b[43mbuiltins\u001b[49m\u001b[38;5;241;43m.\u001b[39;49m\u001b[43mopen\u001b[49m\u001b[43m(\u001b[49m\u001b[43mfilename\u001b[49m\u001b[43m,\u001b[49m\u001b[43m \u001b[49m\u001b[38;5;124;43m\"\u001b[39;49m\u001b[38;5;124;43mrb\u001b[39;49m\u001b[38;5;124;43m\"\u001b[39;49m\u001b[43m)\u001b[49m\n\u001b[0;32m   3248\u001b[0m     exclusive_fp \u001b[38;5;241m=\u001b[39m \u001b[38;5;28;01mTrue\u001b[39;00m\n\u001b[0;32m   3250\u001b[0m \u001b[38;5;28;01mtry\u001b[39;00m:\n",
      "\u001b[1;31mFileNotFoundError\u001b[0m: [Errno 2] No such file or directory: 'c:\\\\Users\\\\solei\\\\RAPIDA_2\\\\RAPID_A/Results/Model_2E_Eff/Mask_Results_DE/1.png'"
     ]
    }
   ],
   "source": [
    "A.Ensemble(['C','D'],rotate=True)"
   ]
  },
  {
   "cell_type": "code",
   "execution_count": null,
   "metadata": {},
   "outputs": [
    {
     "data": {
      "application/vnd.jupyter.widget-view+json": {
       "model_id": "ee1f0489a91a47bf8bf108f8d217eb4d",
       "version_major": 2,
       "version_minor": 0
      },
      "text/plain": [
       "  0%|          | 0/100 [00:00<?, ?it/s]"
      ]
     },
     "metadata": {},
     "output_type": "display_data"
    }
   ],
   "source": [
    "from tqdm.notebook import tqdm_notebook\n",
    "\n",
    "# Create a tqdm_notebook object\n",
    "progress_bar = tqdm_notebook(total=100)\n",
    "\n",
    "# Update the progress bar\n",
    "for i in range(100):\n",
    "    progress_bar.update(1)\n",
    "\n",
    "# Close the progress bar\n",
    "progress_bar.close()\n"
   ]
  },
  {
   "cell_type": "code",
   "execution_count": null,
   "metadata": {},
   "outputs": [
    {
     "name": "stdout",
     "output_type": "stream",
     "text": [
      "Collecting jupyter\n",
      "  Downloading jupyter-1.0.0-py2.py3-none-any.whl.metadata (995 bytes)\n",
      "Requirement already satisfied: ipywidgets in c:\\users\\solei\\anaconda3\\envs\\rapid_test_1\\lib\\site-packages (8.1.2)\n",
      "Requirement already satisfied: notebook in c:\\users\\solei\\anaconda3\\envs\\rapid_test_1\\lib\\site-packages (from jupyter) (7.0.8)\n",
      "Collecting qtconsole (from jupyter)\n",
      "  Downloading qtconsole-5.5.1-py3-none-any.whl.metadata (5.1 kB)\n",
      "Collecting jupyter-console (from jupyter)\n",
      "  Downloading jupyter_console-6.6.3-py3-none-any.whl.metadata (5.8 kB)\n",
      "Requirement already satisfied: nbconvert in c:\\users\\solei\\anaconda3\\envs\\rapid_test_1\\lib\\site-packages (from jupyter) (7.10.0)\n",
      "Requirement already satisfied: ipykernel in c:\\users\\solei\\anaconda3\\envs\\rapid_test_1\\lib\\site-packages (from jupyter) (6.28.0)\n",
      "Requirement already satisfied: comm>=0.1.3 in c:\\users\\solei\\anaconda3\\envs\\rapid_test_1\\lib\\site-packages (from ipywidgets) (0.2.1)\n",
      "Requirement already satisfied: ipython>=6.1.0 in c:\\users\\solei\\anaconda3\\envs\\rapid_test_1\\lib\\site-packages (from ipywidgets) (8.12.2)\n",
      "Requirement already satisfied: traitlets>=4.3.1 in c:\\users\\solei\\anaconda3\\envs\\rapid_test_1\\lib\\site-packages (from ipywidgets) (5.7.1)\n",
      "Requirement already satisfied: widgetsnbextension~=4.0.10 in c:\\users\\solei\\anaconda3\\envs\\rapid_test_1\\lib\\site-packages (from ipywidgets) (4.0.10)\n",
      "Requirement already satisfied: jupyterlab-widgets~=3.0.10 in c:\\users\\solei\\anaconda3\\envs\\rapid_test_1\\lib\\site-packages (from ipywidgets) (3.0.10)\n",
      "Requirement already satisfied: backcall in c:\\users\\solei\\anaconda3\\envs\\rapid_test_1\\lib\\site-packages (from ipython>=6.1.0->ipywidgets) (0.2.0)\n",
      "Requirement already satisfied: decorator in c:\\users\\solei\\anaconda3\\envs\\rapid_test_1\\lib\\site-packages (from ipython>=6.1.0->ipywidgets) (5.1.1)\n",
      "Requirement already satisfied: jedi>=0.16 in c:\\users\\solei\\anaconda3\\envs\\rapid_test_1\\lib\\site-packages (from ipython>=6.1.0->ipywidgets) (0.18.1)\n",
      "Requirement already satisfied: matplotlib-inline in c:\\users\\solei\\anaconda3\\envs\\rapid_test_1\\lib\\site-packages (from ipython>=6.1.0->ipywidgets) (0.1.6)\n",
      "Requirement already satisfied: pickleshare in c:\\users\\solei\\anaconda3\\envs\\rapid_test_1\\lib\\site-packages (from ipython>=6.1.0->ipywidgets) (0.7.5)\n",
      "Requirement already satisfied: prompt-toolkit!=3.0.37,<3.1.0,>=3.0.30 in c:\\users\\solei\\anaconda3\\envs\\rapid_test_1\\lib\\site-packages (from ipython>=6.1.0->ipywidgets) (3.0.43)\n",
      "Requirement already satisfied: pygments>=2.4.0 in c:\\users\\solei\\anaconda3\\envs\\rapid_test_1\\lib\\site-packages (from ipython>=6.1.0->ipywidgets) (2.15.1)\n",
      "Requirement already satisfied: stack-data in c:\\users\\solei\\anaconda3\\envs\\rapid_test_1\\lib\\site-packages (from ipython>=6.1.0->ipywidgets) (0.2.0)\n",
      "Requirement already satisfied: typing-extensions in c:\\users\\solei\\anaconda3\\envs\\rapid_test_1\\lib\\site-packages (from ipython>=6.1.0->ipywidgets) (4.10.0)\n",
      "Requirement already satisfied: colorama in c:\\users\\solei\\anaconda3\\envs\\rapid_test_1\\lib\\site-packages (from ipython>=6.1.0->ipywidgets) (0.4.6)\n",
      "Requirement already satisfied: debugpy>=1.6.5 in c:\\users\\solei\\anaconda3\\envs\\rapid_test_1\\lib\\site-packages (from ipykernel->jupyter) (1.6.7)\n",
      "Requirement already satisfied: jupyter-client>=6.1.12 in c:\\users\\solei\\anaconda3\\envs\\rapid_test_1\\lib\\site-packages (from ipykernel->jupyter) (8.6.0)\n",
      "Requirement already satisfied: jupyter-core!=5.0.*,>=4.12 in c:\\users\\solei\\anaconda3\\envs\\rapid_test_1\\lib\\site-packages (from ipykernel->jupyter) (5.5.0)\n",
      "Requirement already satisfied: nest-asyncio in c:\\users\\solei\\anaconda3\\envs\\rapid_test_1\\lib\\site-packages (from ipykernel->jupyter) (1.6.0)\n",
      "Requirement already satisfied: packaging in c:\\users\\solei\\anaconda3\\envs\\rapid_test_1\\lib\\site-packages (from ipykernel->jupyter) (23.2)\n",
      "Requirement already satisfied: psutil in c:\\users\\solei\\anaconda3\\envs\\rapid_test_1\\lib\\site-packages (from ipykernel->jupyter) (5.9.0)\n",
      "Requirement already satisfied: pyzmq>=24 in c:\\users\\solei\\anaconda3\\envs\\rapid_test_1\\lib\\site-packages (from ipykernel->jupyter) (25.1.2)\n",
      "Requirement already satisfied: tornado>=6.1 in c:\\users\\solei\\anaconda3\\envs\\rapid_test_1\\lib\\site-packages (from ipykernel->jupyter) (6.3.3)\n",
      "Requirement already satisfied: beautifulsoup4 in c:\\users\\solei\\anaconda3\\envs\\rapid_test_1\\lib\\site-packages (from nbconvert->jupyter) (4.12.2)\n",
      "Requirement already satisfied: bleach!=5.0.0 in c:\\users\\solei\\anaconda3\\envs\\rapid_test_1\\lib\\site-packages (from nbconvert->jupyter) (4.1.0)\n",
      "Requirement already satisfied: defusedxml in c:\\users\\solei\\anaconda3\\envs\\rapid_test_1\\lib\\site-packages (from nbconvert->jupyter) (0.7.1)\n",
      "Requirement already satisfied: importlib-metadata>=3.6 in c:\\users\\solei\\anaconda3\\envs\\rapid_test_1\\lib\\site-packages (from nbconvert->jupyter) (7.0.1)\n",
      "Requirement already satisfied: jinja2>=3.0 in c:\\users\\solei\\anaconda3\\envs\\rapid_test_1\\lib\\site-packages (from nbconvert->jupyter) (3.1.3)\n",
      "Requirement already satisfied: jupyterlab-pygments in c:\\users\\solei\\anaconda3\\envs\\rapid_test_1\\lib\\site-packages (from nbconvert->jupyter) (0.1.2)\n",
      "Requirement already satisfied: markupsafe>=2.0 in c:\\users\\solei\\anaconda3\\envs\\rapid_test_1\\lib\\site-packages (from nbconvert->jupyter) (2.1.3)\n",
      "Requirement already satisfied: mistune<4,>=2.0.3 in c:\\users\\solei\\anaconda3\\envs\\rapid_test_1\\lib\\site-packages (from nbconvert->jupyter) (2.0.4)\n",
      "Requirement already satisfied: nbclient>=0.5.0 in c:\\users\\solei\\anaconda3\\envs\\rapid_test_1\\lib\\site-packages (from nbconvert->jupyter) (0.8.0)\n",
      "Requirement already satisfied: nbformat>=5.7 in c:\\users\\solei\\anaconda3\\envs\\rapid_test_1\\lib\\site-packages (from nbconvert->jupyter) (5.9.2)\n",
      "Requirement already satisfied: pandocfilters>=1.4.1 in c:\\users\\solei\\anaconda3\\envs\\rapid_test_1\\lib\\site-packages (from nbconvert->jupyter) (1.5.0)\n",
      "Requirement already satisfied: tinycss2 in c:\\users\\solei\\anaconda3\\envs\\rapid_test_1\\lib\\site-packages (from nbconvert->jupyter) (1.2.1)\n",
      "Requirement already satisfied: jupyter-server<3,>=2.4.0 in c:\\users\\solei\\anaconda3\\envs\\rapid_test_1\\lib\\site-packages (from notebook->jupyter) (2.10.0)\n",
      "Requirement already satisfied: jupyterlab-server<3,>=2.22.1 in c:\\users\\solei\\anaconda3\\envs\\rapid_test_1\\lib\\site-packages (from notebook->jupyter) (2.25.1)\n",
      "Requirement already satisfied: jupyterlab<4.1,>=4.0.2 in c:\\users\\solei\\anaconda3\\envs\\rapid_test_1\\lib\\site-packages (from notebook->jupyter) (4.0.11)\n",
      "Requirement already satisfied: notebook-shim<0.3,>=0.2 in c:\\users\\solei\\anaconda3\\envs\\rapid_test_1\\lib\\site-packages (from notebook->jupyter) (0.2.3)\n",
      "Collecting qtpy>=2.4.0 (from qtconsole->jupyter)\n",
      "  Downloading QtPy-2.4.1-py3-none-any.whl.metadata (12 kB)\n",
      "Requirement already satisfied: six>=1.9.0 in c:\\users\\solei\\anaconda3\\envs\\rapid_test_1\\lib\\site-packages (from bleach!=5.0.0->nbconvert->jupyter) (1.16.0)\n",
      "Requirement already satisfied: webencodings in c:\\users\\solei\\anaconda3\\envs\\rapid_test_1\\lib\\site-packages (from bleach!=5.0.0->nbconvert->jupyter) (0.5.1)\n",
      "Requirement already satisfied: zipp>=0.5 in c:\\users\\solei\\anaconda3\\envs\\rapid_test_1\\lib\\site-packages (from importlib-metadata>=3.6->nbconvert->jupyter) (3.17.0)\n",
      "Requirement already satisfied: parso<0.9.0,>=0.8.0 in c:\\users\\solei\\anaconda3\\envs\\rapid_test_1\\lib\\site-packages (from jedi>=0.16->ipython>=6.1.0->ipywidgets) (0.8.3)\n",
      "Requirement already satisfied: python-dateutil>=2.8.2 in c:\\users\\solei\\anaconda3\\envs\\rapid_test_1\\lib\\site-packages (from jupyter-client>=6.1.12->ipykernel->jupyter) (2.8.2)\n",
      "Requirement already satisfied: platformdirs>=2.5 in c:\\users\\solei\\anaconda3\\envs\\rapid_test_1\\lib\\site-packages (from jupyter-core!=5.0.*,>=4.12->ipykernel->jupyter) (3.10.0)\n",
      "Requirement already satisfied: pywin32>=300 in c:\\users\\solei\\anaconda3\\envs\\rapid_test_1\\lib\\site-packages (from jupyter-core!=5.0.*,>=4.12->ipykernel->jupyter) (305.1)\n",
      "Requirement already satisfied: anyio>=3.1.0 in c:\\users\\solei\\anaconda3\\envs\\rapid_test_1\\lib\\site-packages (from jupyter-server<3,>=2.4.0->notebook->jupyter) (4.2.0)\n",
      "Requirement already satisfied: argon2-cffi in c:\\users\\solei\\anaconda3\\envs\\rapid_test_1\\lib\\site-packages (from jupyter-server<3,>=2.4.0->notebook->jupyter) (21.3.0)\n",
      "Requirement already satisfied: jupyter-events>=0.6.0 in c:\\users\\solei\\anaconda3\\envs\\rapid_test_1\\lib\\site-packages (from jupyter-server<3,>=2.4.0->notebook->jupyter) (0.8.0)\n",
      "Requirement already satisfied: jupyter-server-terminals in c:\\users\\solei\\anaconda3\\envs\\rapid_test_1\\lib\\site-packages (from jupyter-server<3,>=2.4.0->notebook->jupyter) (0.4.4)\n",
      "Requirement already satisfied: overrides in c:\\users\\solei\\anaconda3\\envs\\rapid_test_1\\lib\\site-packages (from jupyter-server<3,>=2.4.0->notebook->jupyter) (7.4.0)\n",
      "Requirement already satisfied: prometheus-client in c:\\users\\solei\\anaconda3\\envs\\rapid_test_1\\lib\\site-packages (from jupyter-server<3,>=2.4.0->notebook->jupyter) (0.14.1)\n",
      "Requirement already satisfied: pywinpty in c:\\users\\solei\\anaconda3\\envs\\rapid_test_1\\lib\\site-packages (from jupyter-server<3,>=2.4.0->notebook->jupyter) (2.0.10)\n",
      "Requirement already satisfied: send2trash>=1.8.2 in c:\\users\\solei\\anaconda3\\envs\\rapid_test_1\\lib\\site-packages (from jupyter-server<3,>=2.4.0->notebook->jupyter) (1.8.2)\n",
      "Requirement already satisfied: terminado>=0.8.3 in c:\\users\\solei\\anaconda3\\envs\\rapid_test_1\\lib\\site-packages (from jupyter-server<3,>=2.4.0->notebook->jupyter) (0.17.1)\n",
      "Requirement already satisfied: websocket-client in c:\\users\\solei\\anaconda3\\envs\\rapid_test_1\\lib\\site-packages (from jupyter-server<3,>=2.4.0->notebook->jupyter) (0.58.0)\n",
      "Requirement already satisfied: async-lru>=1.0.0 in c:\\users\\solei\\anaconda3\\envs\\rapid_test_1\\lib\\site-packages (from jupyterlab<4.1,>=4.0.2->notebook->jupyter) (2.0.4)\n",
      "Requirement already satisfied: importlib-resources>=1.4 in c:\\users\\solei\\anaconda3\\envs\\rapid_test_1\\lib\\site-packages (from jupyterlab<4.1,>=4.0.2->notebook->jupyter) (6.1.1)\n",
      "Requirement already satisfied: jupyter-lsp>=2.0.0 in c:\\users\\solei\\anaconda3\\envs\\rapid_test_1\\lib\\site-packages (from jupyterlab<4.1,>=4.0.2->notebook->jupyter) (2.2.0)\n",
      "Requirement already satisfied: tomli in c:\\users\\solei\\anaconda3\\envs\\rapid_test_1\\lib\\site-packages (from jupyterlab<4.1,>=4.0.2->notebook->jupyter) (2.0.1)\n",
      "Requirement already satisfied: babel>=2.10 in c:\\users\\solei\\anaconda3\\envs\\rapid_test_1\\lib\\site-packages (from jupyterlab-server<3,>=2.22.1->notebook->jupyter) (2.11.0)\n",
      "Requirement already satisfied: json5>=0.9.0 in c:\\users\\solei\\anaconda3\\envs\\rapid_test_1\\lib\\site-packages (from jupyterlab-server<3,>=2.22.1->notebook->jupyter) (0.9.6)\n",
      "Requirement already satisfied: jsonschema>=4.18.0 in c:\\users\\solei\\anaconda3\\envs\\rapid_test_1\\lib\\site-packages (from jupyterlab-server<3,>=2.22.1->notebook->jupyter) (4.19.2)\n",
      "Requirement already satisfied: requests>=2.31 in c:\\users\\solei\\anaconda3\\envs\\rapid_test_1\\lib\\site-packages (from jupyterlab-server<3,>=2.22.1->notebook->jupyter) (2.31.0)\n",
      "Requirement already satisfied: fastjsonschema in c:\\users\\solei\\anaconda3\\envs\\rapid_test_1\\lib\\site-packages (from nbformat>=5.7->nbconvert->jupyter) (2.16.2)\n",
      "Requirement already satisfied: wcwidth in c:\\users\\solei\\anaconda3\\envs\\rapid_test_1\\lib\\site-packages (from prompt-toolkit!=3.0.37,<3.1.0,>=3.0.30->ipython>=6.1.0->ipywidgets) (0.2.5)\n",
      "Requirement already satisfied: soupsieve>1.2 in c:\\users\\solei\\anaconda3\\envs\\rapid_test_1\\lib\\site-packages (from beautifulsoup4->nbconvert->jupyter) (2.5)\n",
      "Requirement already satisfied: executing in c:\\users\\solei\\anaconda3\\envs\\rapid_test_1\\lib\\site-packages (from stack-data->ipython>=6.1.0->ipywidgets) (0.8.3)\n",
      "Requirement already satisfied: asttokens in c:\\users\\solei\\anaconda3\\envs\\rapid_test_1\\lib\\site-packages (from stack-data->ipython>=6.1.0->ipywidgets) (2.0.5)\n",
      "Requirement already satisfied: pure-eval in c:\\users\\solei\\anaconda3\\envs\\rapid_test_1\\lib\\site-packages (from stack-data->ipython>=6.1.0->ipywidgets) (0.2.2)\n",
      "Requirement already satisfied: idna>=2.8 in c:\\users\\solei\\anaconda3\\envs\\rapid_test_1\\lib\\site-packages (from anyio>=3.1.0->jupyter-server<3,>=2.4.0->notebook->jupyter) (3.4)\n",
      "Requirement already satisfied: sniffio>=1.1 in c:\\users\\solei\\anaconda3\\envs\\rapid_test_1\\lib\\site-packages (from anyio>=3.1.0->jupyter-server<3,>=2.4.0->notebook->jupyter) (1.3.0)\n",
      "Requirement already satisfied: exceptiongroup>=1.0.2 in c:\\users\\solei\\anaconda3\\envs\\rapid_test_1\\lib\\site-packages (from anyio>=3.1.0->jupyter-server<3,>=2.4.0->notebook->jupyter) (1.2.0)\n",
      "Requirement already satisfied: pytz>=2015.7 in c:\\users\\solei\\anaconda3\\envs\\rapid_test_1\\lib\\site-packages (from babel>=2.10->jupyterlab-server<3,>=2.22.1->notebook->jupyter) (2023.3.post1)\n",
      "Requirement already satisfied: attrs>=22.2.0 in c:\\users\\solei\\anaconda3\\envs\\rapid_test_1\\lib\\site-packages (from jsonschema>=4.18.0->jupyterlab-server<3,>=2.22.1->notebook->jupyter) (23.1.0)\n",
      "Requirement already satisfied: jsonschema-specifications>=2023.03.6 in c:\\users\\solei\\anaconda3\\envs\\rapid_test_1\\lib\\site-packages (from jsonschema>=4.18.0->jupyterlab-server<3,>=2.22.1->notebook->jupyter) (2023.7.1)\n",
      "Requirement already satisfied: pkgutil-resolve-name>=1.3.10 in c:\\users\\solei\\anaconda3\\envs\\rapid_test_1\\lib\\site-packages (from jsonschema>=4.18.0->jupyterlab-server<3,>=2.22.1->notebook->jupyter) (1.3.10)\n",
      "Requirement already satisfied: referencing>=0.28.4 in c:\\users\\solei\\anaconda3\\envs\\rapid_test_1\\lib\\site-packages (from jsonschema>=4.18.0->jupyterlab-server<3,>=2.22.1->notebook->jupyter) (0.30.2)\n",
      "Requirement already satisfied: rpds-py>=0.7.1 in c:\\users\\solei\\anaconda3\\envs\\rapid_test_1\\lib\\site-packages (from jsonschema>=4.18.0->jupyterlab-server<3,>=2.22.1->notebook->jupyter) (0.10.6)\n",
      "Requirement already satisfied: python-json-logger>=2.0.4 in c:\\users\\solei\\anaconda3\\envs\\rapid_test_1\\lib\\site-packages (from jupyter-events>=0.6.0->jupyter-server<3,>=2.4.0->notebook->jupyter) (2.0.7)\n",
      "Requirement already satisfied: pyyaml>=5.3 in c:\\users\\solei\\anaconda3\\envs\\rapid_test_1\\lib\\site-packages (from jupyter-events>=0.6.0->jupyter-server<3,>=2.4.0->notebook->jupyter) (6.0.1)\n",
      "Requirement already satisfied: rfc3339-validator in c:\\users\\solei\\anaconda3\\envs\\rapid_test_1\\lib\\site-packages (from jupyter-events>=0.6.0->jupyter-server<3,>=2.4.0->notebook->jupyter) (0.1.4)\n",
      "Requirement already satisfied: rfc3986-validator>=0.1.1 in c:\\users\\solei\\anaconda3\\envs\\rapid_test_1\\lib\\site-packages (from jupyter-events>=0.6.0->jupyter-server<3,>=2.4.0->notebook->jupyter) (0.1.1)\n",
      "Requirement already satisfied: charset-normalizer<4,>=2 in c:\\users\\solei\\anaconda3\\envs\\rapid_test_1\\lib\\site-packages (from requests>=2.31->jupyterlab-server<3,>=2.22.1->notebook->jupyter) (2.0.4)\n",
      "Requirement already satisfied: urllib3<3,>=1.21.1 in c:\\users\\solei\\anaconda3\\envs\\rapid_test_1\\lib\\site-packages (from requests>=2.31->jupyterlab-server<3,>=2.22.1->notebook->jupyter) (1.26.18)\n",
      "Requirement already satisfied: certifi>=2017.4.17 in c:\\users\\solei\\anaconda3\\envs\\rapid_test_1\\lib\\site-packages (from requests>=2.31->jupyterlab-server<3,>=2.22.1->notebook->jupyter) (2024.2.2)\n",
      "Requirement already satisfied: argon2-cffi-bindings in c:\\users\\solei\\anaconda3\\envs\\rapid_test_1\\lib\\site-packages (from argon2-cffi->jupyter-server<3,>=2.4.0->notebook->jupyter) (21.2.0)\n",
      "Collecting fqdn (from jsonschema[format-nongpl]>=4.18.0->jupyter-events>=0.6.0->jupyter-server<3,>=2.4.0->notebook->jupyter)\n",
      "  Downloading fqdn-1.5.1-py3-none-any.whl.metadata (1.4 kB)\n",
      "Collecting isoduration (from jsonschema[format-nongpl]>=4.18.0->jupyter-events>=0.6.0->jupyter-server<3,>=2.4.0->notebook->jupyter)\n",
      "  Downloading isoduration-20.11.0-py3-none-any.whl.metadata (5.7 kB)\n",
      "Collecting jsonpointer>1.13 (from jsonschema[format-nongpl]>=4.18.0->jupyter-events>=0.6.0->jupyter-server<3,>=2.4.0->notebook->jupyter)\n",
      "  Downloading jsonpointer-2.4-py2.py3-none-any.whl.metadata (2.5 kB)\n",
      "Collecting uri-template (from jsonschema[format-nongpl]>=4.18.0->jupyter-events>=0.6.0->jupyter-server<3,>=2.4.0->notebook->jupyter)\n",
      "  Downloading uri_template-1.3.0-py3-none-any.whl.metadata (8.8 kB)\n",
      "Collecting webcolors>=1.11 (from jsonschema[format-nongpl]>=4.18.0->jupyter-events>=0.6.0->jupyter-server<3,>=2.4.0->notebook->jupyter)\n",
      "  Downloading webcolors-1.13-py3-none-any.whl.metadata (2.6 kB)\n",
      "Requirement already satisfied: cffi>=1.0.1 in c:\\users\\solei\\anaconda3\\envs\\rapid_test_1\\lib\\site-packages (from argon2-cffi-bindings->argon2-cffi->jupyter-server<3,>=2.4.0->notebook->jupyter) (1.16.0)\n",
      "Requirement already satisfied: pycparser in c:\\users\\solei\\anaconda3\\envs\\rapid_test_1\\lib\\site-packages (from cffi>=1.0.1->argon2-cffi-bindings->argon2-cffi->jupyter-server<3,>=2.4.0->notebook->jupyter) (2.21)\n",
      "Collecting arrow>=0.15.0 (from isoduration->jsonschema[format-nongpl]>=4.18.0->jupyter-events>=0.6.0->jupyter-server<3,>=2.4.0->notebook->jupyter)\n",
      "  Downloading arrow-1.3.0-py3-none-any.whl.metadata (7.5 kB)\n",
      "Collecting types-python-dateutil>=2.8.10 (from arrow>=0.15.0->isoduration->jsonschema[format-nongpl]>=4.18.0->jupyter-events>=0.6.0->jupyter-server<3,>=2.4.0->notebook->jupyter)\n",
      "  Downloading types_python_dateutil-2.9.0.20240316-py3-none-any.whl.metadata (1.8 kB)\n",
      "Downloading jupyter-1.0.0-py2.py3-none-any.whl (2.7 kB)\n",
      "Downloading jupyter_console-6.6.3-py3-none-any.whl (24 kB)\n",
      "Downloading qtconsole-5.5.1-py3-none-any.whl (123 kB)\n",
      "   ---------------------------------------- 0.0/123.4 kB ? eta -:--:--\n",
      "   --- ------------------------------------ 10.2/123.4 kB ? eta -:--:--\n",
      "   ---------------------------------------- 123.4/123.4 kB 1.5 MB/s eta 0:00:00\n",
      "Downloading QtPy-2.4.1-py3-none-any.whl (93 kB)\n",
      "   ---------------------------------------- 0.0/93.5 kB ? eta -:--:--\n",
      "   ----------------- ---------------------- 41.0/93.5 kB 1.9 MB/s eta 0:00:01\n",
      "   ---------------------------------------- 93.5/93.5 kB 1.3 MB/s eta 0:00:00\n",
      "Downloading jsonpointer-2.4-py2.py3-none-any.whl (7.8 kB)\n",
      "Downloading webcolors-1.13-py3-none-any.whl (14 kB)\n",
      "Downloading fqdn-1.5.1-py3-none-any.whl (9.1 kB)\n",
      "Downloading isoduration-20.11.0-py3-none-any.whl (11 kB)\n",
      "Downloading uri_template-1.3.0-py3-none-any.whl (11 kB)\n",
      "Downloading arrow-1.3.0-py3-none-any.whl (66 kB)\n",
      "   ---------------------------------------- 0.0/66.4 kB ? eta -:--:--\n",
      "   ------------------------ --------------- 41.0/66.4 kB 991.0 kB/s eta 0:00:01\n",
      "   ---------------------------------------- 66.4/66.4 kB 720.2 kB/s eta 0:00:00\n",
      "Downloading types_python_dateutil-2.9.0.20240316-py3-none-any.whl (9.7 kB)\n",
      "Installing collected packages: webcolors, uri-template, types-python-dateutil, qtpy, jsonpointer, fqdn, arrow, isoduration, qtconsole, jupyter-console, jupyter\n",
      "Successfully installed arrow-1.3.0 fqdn-1.5.1 isoduration-20.11.0 jsonpointer-2.4 jupyter-1.0.0 jupyter-console-6.6.3 qtconsole-5.5.1 qtpy-2.4.1 types-python-dateutil-2.9.0.20240316 uri-template-1.3.0 webcolors-1.13\n"
     ]
    },
    {
     "name": "stderr",
     "output_type": "stream",
     "text": [
      "WARNING: Retrying (Retry(total=4, connect=None, read=None, redirect=None, status=None)) after connection broken by 'ProtocolError('Connection aborted.', ConnectionResetError(10054, 'An existing connection was forcibly closed by the remote host', None, 10054, None))': /simple/jupyter/\n"
     ]
    }
   ],
   "source": [
    "!pip install --upgrade jupyter ipywidgets"
   ]
  },
  {
   "cell_type": "code",
   "execution_count": null,
   "metadata": {},
   "outputs": [],
   "source": [
    "from keras.applications.vgg19 import VGG19"
   ]
  },
  {
   "cell_type": "code",
   "execution_count": null,
   "metadata": {},
   "outputs": [
    {
     "name": "stdout",
     "output_type": "stream",
     "text": [
      "Collecting https://github.com/tensorflow/tensorflow/releases/tag/v2.15.0\n",
      "  Downloading https://github.com/tensorflow/tensorflow/releases/tag/v2.15.0\n",
      "     - 0 bytes ? 0:00:00\n",
      "     - 50.7 kB 1.3 MB/s 0:00:00\n",
      "     - 169.3 kB 2.5 MB/s 0:00:00\n"
     ]
    },
    {
     "name": "stderr",
     "output_type": "stream",
     "text": [
      "  ERROR: Cannot unpack file C:\\Users\\solei\\AppData\\Local\\Temp\\pip-unpack-0sxzd5cq\\v2.15.0 (downloaded from C:\\Users\\solei\\AppData\\Local\\Temp\\pip-req-build-dk9eij8_, content-type: text/html; charset=utf-8); cannot detect archive format\n",
      "ERROR: Cannot determine archive format of C:\\Users\\solei\\AppData\\Local\\Temp\\pip-req-build-dk9eij8_\n"
     ]
    }
   ],
   "source": [
    "\n",
    "!pip install https://github.com/tensorflow/tensorflow/releases/tag/v2.15.0\n",
    "\n",
    "\n",
    "\n"
   ]
  },
  {
   "cell_type": "code",
   "execution_count": null,
   "metadata": {},
   "outputs": [
    {
     "name": "stdout",
     "output_type": "stream",
     "text": [
      "Requirement already satisfied: tensorflow in c:\\users\\solei\\anaconda3\\envs\\rapid_test_1\\lib\\site-packages (2.13.0)\n",
      "Requirement already satisfied: tensorflow-intel==2.13.0 in c:\\users\\solei\\anaconda3\\envs\\rapid_test_1\\lib\\site-packages (from tensorflow) (2.13.0)\n",
      "Requirement already satisfied: absl-py>=1.0.0 in c:\\users\\solei\\anaconda3\\envs\\rapid_test_1\\lib\\site-packages (from tensorflow-intel==2.13.0->tensorflow) (2.1.0)\n",
      "Requirement already satisfied: astunparse>=1.6.0 in c:\\users\\solei\\anaconda3\\envs\\rapid_test_1\\lib\\site-packages (from tensorflow-intel==2.13.0->tensorflow) (1.6.3)\n",
      "Requirement already satisfied: flatbuffers>=23.1.21 in c:\\users\\solei\\anaconda3\\envs\\rapid_test_1\\lib\\site-packages (from tensorflow-intel==2.13.0->tensorflow) (24.3.7)\n",
      "Requirement already satisfied: gast<=0.4.0,>=0.2.1 in c:\\users\\solei\\anaconda3\\envs\\rapid_test_1\\lib\\site-packages (from tensorflow-intel==2.13.0->tensorflow) (0.4.0)\n",
      "Requirement already satisfied: google-pasta>=0.1.1 in c:\\users\\solei\\anaconda3\\envs\\rapid_test_1\\lib\\site-packages (from tensorflow-intel==2.13.0->tensorflow) (0.2.0)\n",
      "Requirement already satisfied: h5py>=2.9.0 in c:\\users\\solei\\anaconda3\\envs\\rapid_test_1\\lib\\site-packages (from tensorflow-intel==2.13.0->tensorflow) (3.10.0)\n",
      "Requirement already satisfied: libclang>=13.0.0 in c:\\users\\solei\\anaconda3\\envs\\rapid_test_1\\lib\\site-packages (from tensorflow-intel==2.13.0->tensorflow) (18.1.1)\n",
      "Requirement already satisfied: numpy<=1.24.3,>=1.22 in c:\\users\\solei\\anaconda3\\envs\\rapid_test_1\\lib\\site-packages (from tensorflow-intel==2.13.0->tensorflow) (1.24.3)\n",
      "Requirement already satisfied: opt-einsum>=2.3.2 in c:\\users\\solei\\anaconda3\\envs\\rapid_test_1\\lib\\site-packages (from tensorflow-intel==2.13.0->tensorflow) (3.3.0)\n",
      "Requirement already satisfied: packaging in c:\\users\\solei\\anaconda3\\envs\\rapid_test_1\\lib\\site-packages (from tensorflow-intel==2.13.0->tensorflow) (23.2)\n",
      "Requirement already satisfied: protobuf!=4.21.0,!=4.21.1,!=4.21.2,!=4.21.3,!=4.21.4,!=4.21.5,<5.0.0dev,>=3.20.3 in c:\\users\\solei\\anaconda3\\envs\\rapid_test_1\\lib\\site-packages (from tensorflow-intel==2.13.0->tensorflow) (4.25.3)\n",
      "Requirement already satisfied: setuptools in c:\\users\\solei\\anaconda3\\envs\\rapid_test_1\\lib\\site-packages (from tensorflow-intel==2.13.0->tensorflow) (68.2.2)\n",
      "Requirement already satisfied: six>=1.12.0 in c:\\users\\solei\\anaconda3\\envs\\rapid_test_1\\lib\\site-packages (from tensorflow-intel==2.13.0->tensorflow) (1.16.0)\n",
      "Requirement already satisfied: termcolor>=1.1.0 in c:\\users\\solei\\anaconda3\\envs\\rapid_test_1\\lib\\site-packages (from tensorflow-intel==2.13.0->tensorflow) (2.4.0)\n",
      "Requirement already satisfied: typing-extensions<4.6.0,>=3.6.6 in c:\\users\\solei\\anaconda3\\envs\\rapid_test_1\\lib\\site-packages (from tensorflow-intel==2.13.0->tensorflow) (4.5.0)\n",
      "Requirement already satisfied: wrapt>=1.11.0 in c:\\users\\solei\\anaconda3\\envs\\rapid_test_1\\lib\\site-packages (from tensorflow-intel==2.13.0->tensorflow) (1.16.0)\n",
      "Requirement already satisfied: grpcio<2.0,>=1.24.3 in c:\\users\\solei\\anaconda3\\envs\\rapid_test_1\\lib\\site-packages (from tensorflow-intel==2.13.0->tensorflow) (1.62.1)\n",
      "Requirement already satisfied: tensorboard<2.14,>=2.13 in c:\\users\\solei\\anaconda3\\envs\\rapid_test_1\\lib\\site-packages (from tensorflow-intel==2.13.0->tensorflow) (2.13.0)\n",
      "Requirement already satisfied: tensorflow-estimator<2.14,>=2.13.0 in c:\\users\\solei\\anaconda3\\envs\\rapid_test_1\\lib\\site-packages (from tensorflow-intel==2.13.0->tensorflow) (2.13.0)\n",
      "Requirement already satisfied: keras<2.14,>=2.13.1 in c:\\users\\solei\\anaconda3\\envs\\rapid_test_1\\lib\\site-packages (from tensorflow-intel==2.13.0->tensorflow) (2.13.1)\n",
      "Requirement already satisfied: tensorflow-io-gcs-filesystem>=0.23.1 in c:\\users\\solei\\anaconda3\\envs\\rapid_test_1\\lib\\site-packages (from tensorflow-intel==2.13.0->tensorflow) (0.31.0)\n",
      "Requirement already satisfied: wheel<1.0,>=0.23.0 in c:\\users\\solei\\anaconda3\\envs\\rapid_test_1\\lib\\site-packages (from astunparse>=1.6.0->tensorflow-intel==2.13.0->tensorflow) (0.41.2)\n",
      "Requirement already satisfied: google-auth<3,>=1.6.3 in c:\\users\\solei\\anaconda3\\envs\\rapid_test_1\\lib\\site-packages (from tensorboard<2.14,>=2.13->tensorflow-intel==2.13.0->tensorflow) (2.29.0)\n",
      "Requirement already satisfied: google-auth-oauthlib<1.1,>=0.5 in c:\\users\\solei\\anaconda3\\envs\\rapid_test_1\\lib\\site-packages (from tensorboard<2.14,>=2.13->tensorflow-intel==2.13.0->tensorflow) (1.0.0)\n",
      "Requirement already satisfied: markdown>=2.6.8 in c:\\users\\solei\\anaconda3\\envs\\rapid_test_1\\lib\\site-packages (from tensorboard<2.14,>=2.13->tensorflow-intel==2.13.0->tensorflow) (3.6)\n",
      "Requirement already satisfied: requests<3,>=2.21.0 in c:\\users\\solei\\anaconda3\\envs\\rapid_test_1\\lib\\site-packages (from tensorboard<2.14,>=2.13->tensorflow-intel==2.13.0->tensorflow) (2.31.0)\n",
      "Requirement already satisfied: tensorboard-data-server<0.8.0,>=0.7.0 in c:\\users\\solei\\anaconda3\\envs\\rapid_test_1\\lib\\site-packages (from tensorboard<2.14,>=2.13->tensorflow-intel==2.13.0->tensorflow) (0.7.2)\n",
      "Requirement already satisfied: werkzeug>=1.0.1 in c:\\users\\solei\\anaconda3\\envs\\rapid_test_1\\lib\\site-packages (from tensorboard<2.14,>=2.13->tensorflow-intel==2.13.0->tensorflow) (3.0.1)\n",
      "Requirement already satisfied: cachetools<6.0,>=2.0.0 in c:\\users\\solei\\anaconda3\\envs\\rapid_test_1\\lib\\site-packages (from google-auth<3,>=1.6.3->tensorboard<2.14,>=2.13->tensorflow-intel==2.13.0->tensorflow) (5.3.3)\n",
      "Requirement already satisfied: pyasn1-modules>=0.2.1 in c:\\users\\solei\\anaconda3\\envs\\rapid_test_1\\lib\\site-packages (from google-auth<3,>=1.6.3->tensorboard<2.14,>=2.13->tensorflow-intel==2.13.0->tensorflow) (0.3.0)\n",
      "Requirement already satisfied: rsa<5,>=3.1.4 in c:\\users\\solei\\anaconda3\\envs\\rapid_test_1\\lib\\site-packages (from google-auth<3,>=1.6.3->tensorboard<2.14,>=2.13->tensorflow-intel==2.13.0->tensorflow) (4.9)\n",
      "Requirement already satisfied: requests-oauthlib>=0.7.0 in c:\\users\\solei\\anaconda3\\envs\\rapid_test_1\\lib\\site-packages (from google-auth-oauthlib<1.1,>=0.5->tensorboard<2.14,>=2.13->tensorflow-intel==2.13.0->tensorflow) (1.4.0)\n",
      "Requirement already satisfied: importlib-metadata>=4.4 in c:\\users\\solei\\anaconda3\\envs\\rapid_test_1\\lib\\site-packages (from markdown>=2.6.8->tensorboard<2.14,>=2.13->tensorflow-intel==2.13.0->tensorflow) (7.0.1)\n",
      "Requirement already satisfied: charset-normalizer<4,>=2 in c:\\users\\solei\\anaconda3\\envs\\rapid_test_1\\lib\\site-packages (from requests<3,>=2.21.0->tensorboard<2.14,>=2.13->tensorflow-intel==2.13.0->tensorflow) (2.0.4)\n",
      "Requirement already satisfied: idna<4,>=2.5 in c:\\users\\solei\\anaconda3\\envs\\rapid_test_1\\lib\\site-packages (from requests<3,>=2.21.0->tensorboard<2.14,>=2.13->tensorflow-intel==2.13.0->tensorflow) (3.4)\n",
      "Requirement already satisfied: urllib3<3,>=1.21.1 in c:\\users\\solei\\anaconda3\\envs\\rapid_test_1\\lib\\site-packages (from requests<3,>=2.21.0->tensorboard<2.14,>=2.13->tensorflow-intel==2.13.0->tensorflow) (1.26.18)\n",
      "Requirement already satisfied: certifi>=2017.4.17 in c:\\users\\solei\\anaconda3\\envs\\rapid_test_1\\lib\\site-packages (from requests<3,>=2.21.0->tensorboard<2.14,>=2.13->tensorflow-intel==2.13.0->tensorflow) (2024.2.2)\n",
      "Requirement already satisfied: MarkupSafe>=2.1.1 in c:\\users\\solei\\anaconda3\\envs\\rapid_test_1\\lib\\site-packages (from werkzeug>=1.0.1->tensorboard<2.14,>=2.13->tensorflow-intel==2.13.0->tensorflow) (2.1.3)\n",
      "Requirement already satisfied: zipp>=0.5 in c:\\users\\solei\\anaconda3\\envs\\rapid_test_1\\lib\\site-packages (from importlib-metadata>=4.4->markdown>=2.6.8->tensorboard<2.14,>=2.13->tensorflow-intel==2.13.0->tensorflow) (3.17.0)\n",
      "Requirement already satisfied: pyasn1<0.6.0,>=0.4.6 in c:\\users\\solei\\anaconda3\\envs\\rapid_test_1\\lib\\site-packages (from pyasn1-modules>=0.2.1->google-auth<3,>=1.6.3->tensorboard<2.14,>=2.13->tensorflow-intel==2.13.0->tensorflow) (0.5.1)\n",
      "Requirement already satisfied: oauthlib>=3.0.0 in c:\\users\\solei\\anaconda3\\envs\\rapid_test_1\\lib\\site-packages (from requests-oauthlib>=0.7.0->google-auth-oauthlib<1.1,>=0.5->tensorboard<2.14,>=2.13->tensorflow-intel==2.13.0->tensorflow) (3.2.2)\n"
     ]
    }
   ],
   "source": [
    "!pip install tensorflow\n",
    "import keras\n",
    "from keras import backend as K\n",
    "keras.__version__"
   ]
  },
  {
   "cell_type": "code",
   "execution_count": null,
   "metadata": {},
   "outputs": [],
   "source": [
    "import tensorflow"
   ]
  },
  {
   "cell_type": "code",
   "execution_count": null,
   "metadata": {},
   "outputs": [],
   "source": []
  }
 ],
 "metadata": {
  "kernelspec": {
   "display_name": "RAPID_TEST_1",
   "language": "python",
   "name": "python3"
  },
  "language_info": {
   "codemirror_mode": {
    "name": "ipython",
    "version": 3
   },
   "file_extension": ".py",
   "mimetype": "text/x-python",
   "name": "python",
   "nbconvert_exporter": "python",
   "pygments_lexer": "ipython3",
   "version": "3.8.19"
  }
 },
 "nbformat": 4,
 "nbformat_minor": 2
}
